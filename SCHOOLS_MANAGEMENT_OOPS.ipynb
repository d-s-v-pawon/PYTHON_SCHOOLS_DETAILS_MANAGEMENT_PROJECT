{
 "cells": [
  {
   "cell_type": "code",
   "execution_count": 317,
   "id": "443c3b3c-6bd9-4b02-affe-04797363d50c",
   "metadata": {},
   "outputs": [],
   "source": [
    "import re\n",
    "import random\n",
    "import copy\n",
    "from tabulate import tabulate\n",
    "import string\n",
    "class STUDENTS:\n",
    "    name_chars=[string.whitespace[0]]\n",
    "    for i in range(26):\n",
    "        name_chars.append(string.ascii_uppercase[i])\n",
    "    genders=['MALE','FEMALE']\n",
    "    standards=[1,2,3,4,5,6,7,8,9,10]\n",
    "    max_percentage=100\n",
    "    def __init__(self,name,gender,age,sch_name,standard,section,r_no,c_no,percent):\n",
    "        class Invalidname(Exception):\n",
    "            pass\n",
    "        class Invalidgender(Exception):\n",
    "            pass\n",
    "        class Invalidclass(Exception):\n",
    "            pass\n",
    "        class Invalidcontact(Exception):\n",
    "            pass\n",
    "        class Invalidpercent(Exception):\n",
    "            pass\n",
    "        try:\n",
    "            name=name.upper()\n",
    "            for i in name:\n",
    "                if i not in STUDENTS.name_chars:\n",
    "                    raise Invalidname\n",
    "                else:\n",
    "                    pass\n",
    "            self.name=name\n",
    "        except Invalidname:\n",
    "            print(\"NAME SHOULD CONTAIN ONLY ALPHABETS\")\n",
    "            while(True):                \n",
    "                self.name=input(\"ENTER VALID NAME:\")\n",
    "                self.name=self.name.upper()\n",
    "                for i in self.name:\n",
    "                    if i not in STUDENTS.name_chars:\n",
    "                        self.name=''\n",
    "                        break\n",
    "                if len(self.name)>2:\n",
    "                    print(self.name)\n",
    "                    break\n",
    "        try:\n",
    "            gender=gender.upper()\n",
    "            if gender not in STUDENTS.genders:\n",
    "                raise Invalidgender\n",
    "            self.gender=gender\n",
    "        except Invalidgender:\n",
    "            print(\"STUDENT MUST BE MALE OR FEMALE\")\n",
    "            while(True):\n",
    "                self.gender=input(\"ENTER THE CORRECT GENDER:\")\n",
    "                self.gender=self.gender.upper()\n",
    "                if self.gender not in STUDENTS.genders:\n",
    "                    self.gender=''\n",
    "                else:\n",
    "                    print(self.gender)\n",
    "                    break\n",
    "        self.age=age\n",
    "        self.sch_name=sch_name\n",
    "        try:\n",
    "            if standard not in STUDENTS.standards:\n",
    "                raise Invalidclass\n",
    "            self.standard=standard\n",
    "        except Invalidclass:\n",
    "            print(\"THE SCHOOLS CONSISTS STANDARDS FROM 1 TO 10 ONLY\")\n",
    "            while(True):\n",
    "                self.standard=int(input(\"ENTER THE CORRECT STANDARD:\"))\n",
    "                if self.standard in STUDENTS.standards:\n",
    "                    print(self.standard)\n",
    "                    break                    \n",
    "        self.section=section\n",
    "        self.r_no=r_no\n",
    "        try:\n",
    "            if len(str(c_no))!=10:\n",
    "                raise Invalidcontact\n",
    "            self.c_no=c_no\n",
    "        except Invalidcontact:\n",
    "            print(\"CONTACT NUMBER CONTAINS ONLY 10DIGITS IN MAXIMUM\")\n",
    "            while(True):\n",
    "                self.c_no=int(input(\"ENTER VALID CONTACT:\"))\n",
    "                if len(str(self.c_no))==10:\n",
    "                    break\n",
    "        try:\n",
    "            if percent>STUDENTS.max_percentage:\n",
    "                raise Invalidpercent\n",
    "            self.percent=percent\n",
    "        except Invalidpercent:\n",
    "            print(\"PERCENTAGE SHOULD NOT EXCEED 100\")\n",
    "            while(True):\n",
    "                self.percent=int(input(\"ENTER VALID PERCENTAGE:\"))\n",
    "                if self.percent<STUDENTS.max_percentage:\n",
    "                    break\n",
    "        finally:\n",
    "            print(f\"THE STUDENT {self.name} GENERAL DETAILS ENTRY IS COMPLETED\")\n",
    "    def stu_details(self):\n",
    "        print(\"THE STUDENT DETAILS ARE AS FOLLOWS\")\n",
    "        print(\"NAME OF THE STUDENT:\",self.name)\n",
    "        print(\"GENDER:\",self.gender)\n",
    "        print(\"AGE:\",self.age)\n",
    "        print(\"SCHOOL NAME:\",self.sch_name)\n",
    "        print(\"CLASS:\",self.standard)\n",
    "        print(\"SECTION:\",self.section)\n",
    "        print(\"ROLL NUMBER:\",self.r_no)\n",
    "        print(\"CONTACT NUMBER:\",self.c_no)\n",
    "        print(\"ANNUAL PERCENTAGE:\",self.percent)\n",
    "    def read(self):\n",
    "        class Invalidsubject(Exception):\n",
    "            pass\n",
    "        print(f\"HI! {self.name} HAVE A GREAT READING SESSION\")\n",
    "        SUB=[\"TELUGU\",\"HINDI\",\"ENGLISH\",\"MATHS\",\"SCIENCE\",\"SOCIAL\"]\n",
    "        SUBJECTS={\"TELUGU\":\"యోగి వేమన, 17వ శతాబ్దంలో ప్రస్తుతం తెలుగు సాహిత్యంలో ఒక ప్రముఖ కవి-సేంట్‌పోయెట్‌. అతని పద్యాలు జీవితం, ప్రేమ, మరియు విశ్వాన్ని ప్రతినిధించే అంశాలను ప్రతిపాదిస్తాయి. అతని పద్యాలు సరళమైన భాషలో ఉంటాయి మరియు జీవితంలో అద్భుతమైన అంశాలను ప్రతిపాదిస్తాయి.\",\n",
    "                 \"HINDI\":'''प्रेमचंद, जिनका असली नाम मुंशी प्रेमचंद राय था, एक प्रमुख हिंदी कवि, उपन्यासकार, और समाजशास्त्री थे।उनके उपन्यास और कहानियाँ सामाजिक मुद्दों, जीवन की सच्चाई, और आध्यात्मिकता के मुद्दों पर आधारित थे।''',\n",
    "                 \"ENGLISH\":\"Elizabeth Alexander is an American poet, writer, and literary scholar. She has made significant contributions to both poetry and academia.\",\n",
    "                 \"MATHS\":\"Calculus: The study of limits, derivatives, and integrals. It helps us understand rates of change and motion.\",\n",
    "                 \"SCIENCE\":'''Sulfur played a crucial role in the formation of Earth’s first water.Some deep-sea oxygen might be generated by metal-rich chunks on the seafloor.''',\n",
    "                 \"SOCIAL\":''' Poverty persists worldwide, leading to unequal access to resources, education, and healthcare.Impact: Poverty perpetuates cycles of disadvantage and limits opportunities.'''}\n",
    "        try:\n",
    "            subject=input(f\"ENTER THE SUBJECT {self.name} WANTS TO READ:\")\n",
    "            subject=subject.upper()\n",
    "            if subject not in SUB:\n",
    "                raise Invalidsubject\n",
    "        except Invalidsubject:\n",
    "            print(\"THE MAIN SUBJECTS NAMES ARE AS FOLLOWS\")\n",
    "            for i in SUB:\n",
    "                if i!=SUB[len(SUB)-1]:\n",
    "                    print(i,end=',')\n",
    "                else:\n",
    "                    print(i)\n",
    "            while(True):\n",
    "                subject=input(f\"ENTER THE SUBJECT {self.name} WANTS TO READ IN THE ABOVE LIST:\")\n",
    "                subject=subject.upper()\n",
    "                if subject in SUB:\n",
    "                    self.subject=subject\n",
    "                    break\n",
    "            print(f\"GOOD CHOICE! START READING THE {self.subject} SUBJECT\")\n",
    "            print(f\"This is the content for {self.name} to read from the selected {self.subject} subject\")\n",
    "            print(SUBJECTS.get(self.subject))\n",
    "            self.read_lines=SUBJECTS.get(self.subject)\n",
    "        else:\n",
    "            self.subject=subject\n",
    "            print(f\"GOOD CHOICE! START READING THE {self.subject} SUBJECT\")\n",
    "            print(f\"This is the content for you to read of your selected {self.subject} subject\")\n",
    "            print(SUBJECTS.get(self.subject))\n",
    "            self.read_lines=SUBJECTS.get(self.subject)\n",
    "        finally:\n",
    "            print(\"READING SESSION ENDED\")\n",
    "    def write(self):\n",
    "        class Invalidcommand(Exception):\n",
    "            pass\n",
    "        class Invalidsubject(Exception):\n",
    "            pass\n",
    "        class notmatch(Exception):\n",
    "            pass\n",
    "        try:\n",
    "            command=input(\"DO YOU WANT TO WRITE WHAT YOU HAVE READ(Y/N):\")\n",
    "            command=command.lower()\n",
    "            if not re.match(\"^[y&n]\",command):\n",
    "                raise Invalidcommand\n",
    "        except Invalidcommand:\n",
    "            print(\"Error! Only letters Y AND N allowed!\")\n",
    "            print(\"PLEASE TRY AGAIN\")\n",
    "        else:\n",
    "            self.command=command\n",
    "            if(command==\"n\"):\n",
    "                print(f\"HI! {self.name} HAVE A GREAT WRITING SESSION\")\n",
    "                SUBJECTS={\"TELUGU\":\"\",\n",
    "                          \"HIINDI\":\"\",\n",
    "                          \"ENGLISH\":\"\",\n",
    "                          \"MATHS\":\"\",\n",
    "                          \"SCIENCE\":\"\",\n",
    "                          \"SOCIAL\":\"\"}\n",
    "                try:\n",
    "                    subject=input(\"ENTER THE SUBJECT FOR WHICH YOU WANT TO WRITE THE NOTES:\")                        \n",
    "                    subject=subject.upper()\n",
    "                    if subject not in SUBJECTS.keys():\n",
    "                        raise Invalidsubject\n",
    "                except Invalidsubject:\n",
    "                     print(\"THE MAIN SUBJECTS NAMES ARE AS FOLLOWS\")\n",
    "                     print(SUBJECTS.keys())\n",
    "                     while(True):\n",
    "                         subject=input(\"ENTER THE SUBJECT FOR WHICH YOU WANT TO WRITE THE NOTES FROM THE ABOVE LIST:\")                        \n",
    "                         subject=subject.upper()\n",
    "                         if subject in SUBJECTS.keys():\n",
    "                             print(f\"GOOD CHOICE! START WRITING THE {subject} SUBJECT\")\n",
    "                             SUBJECTS[subject]=input(\"WRITE WHAT YOU KNOW ABOUT THE SUBJECT:\")\n",
    "                             written_lines=SUBJECTS.get(subject)\n",
    "                             print(f\"THIS IS THE CONTENT YOU HAVE WRITTEN INTO THE {subject} SUBJECT NOTES\")\n",
    "                             print(f\"{subject} : {written_lines}\")\n",
    "                             break                \n",
    "                else:\n",
    "                    print(f\"GOOD CHOICE! START WRITING THE {subject} SUBJECT\")\n",
    "                    SUBJECTS[subject]=input(\"WRITE WHAT YOU KNOW ABOUT THE SUBJECT:\")\n",
    "                    written_lines=SUBJECTS.get(subject)\n",
    "                    print(f\"THIS IS THE CONTENT YOU HAVE WRITTEN INTO THE {subject} SUBJECT NOTES\")\n",
    "                    print(f\"{subject} : {written_lines}\")\n",
    "            else:\n",
    "                print(f\"HI! {self.name} HAVE A GREAT WRITING SESSION\")\n",
    "                try:\n",
    "                    self.written_lines=input(\"WRITE WHAT YOU HAVE READ:\")\n",
    "                    if self.written_lines!=self.read_lines:\n",
    "                        raise notmatch\n",
    "                except notmatch:\n",
    "                    while(True):\n",
    "                        print(\"NOT WRITTEN CORRECTLY\")\n",
    "                        command=input(\"DO YOU WANT TO WRITE AGAIN WHAT YOU HAVE READ(Y/N):\")\n",
    "                        command=command.lower()\n",
    "                        if not re.match(\"^[y&n]\",command):\n",
    "                            print(\"Error! Only letters Y AND N allowed!\")\n",
    "                        else:\n",
    "                            self.written_lines=input(\"WRITE AGAIN\")\n",
    "                            if self.written_lines==self.read_lines:\n",
    "                                print(\"YOU ARE CORRECTLY WRITTEN WHAT YOU HAVE READ\")\n",
    "                                break\n",
    "                else:\n",
    "                    print(\"YOU ARE CORRECTLY WRITTEN WHAT YOU HAVE READ\")\n",
    "        finally:\n",
    "            print(\"WRITING SESSION ENDED\")\n",
    "    def learn(self):\n",
    "        class notwritten(Exception):\n",
    "            pass\n",
    "        try:\n",
    "            if self.command!=\"y\":\n",
    "                raise notwritten\n",
    "        except notwritten:\n",
    "            print(\"PLEASE,WRITE THE READ CONTENT FIRST\")\n",
    "        else:\n",
    "            if self.written_lines==self.read_lines:\n",
    "                print(f\"YOU HAVE SUCCESSFULLY LEARNT THE CONTENT IN THE SUBJECT {self.subject}\")\n",
    "            else:\n",
    "                print(f\"STILL YOU HAVE TO WORK HARD ON THIS {self.subject} SUBJECT\")\n",
    "        finally:\n",
    "            print(\"LEARNING SESSION ENDED\")\n",
    "    def play(self):\n",
    "        play={\"1\":'04',\n",
    "              \"2\":'05',\n",
    "              \"3\":'02',\n",
    "              \"4\":'07',\n",
    "              \"5\":'08',\n",
    "              \"6\":'10',\n",
    "              \"7\":'06',\n",
    "              \"8\":'03',\n",
    "              \"9\":'09',\n",
    "              \"10\":\"NONE\"}\n",
    "        GAMES=[\"BADMINTON\",\"BASKETBALL\",\"CYCLING\",\"TENNIS\",\"CRICKET\",\"CHESS\",\"KABADDI\",\"VOLLEYBALL\",\"SWIMMING\",\"KHOKHO\"]\n",
    "        if str(self.standard) in play.keys():\n",
    "            print(f\"THE GAMES PERIOD FOR CLASS {self.standard} STUDENT IS {play.get(str(self.standard))}\")\n",
    "        else:\n",
    "            print(\"WRONG CLASS\")\n",
    "        if self.standard!=10:\n",
    "            print(f\"THESE ARE THE GAMES PLAYED BY THE STUDENTS IN THE SCHOOL\")\n",
    "            print(*GAMES,sep=\",\")\n",
    "            T_GAME=random.choice(GAMES)\n",
    "            print(f\"NOW THE GAME PLAYED BY THE STUDENT {self.name} IN RANDOM CHOICE BY THE PET TEACHER IS {T_GAME}\")\n",
    "    def ext_acts(self):\n",
    "        class highstd(Exception):\n",
    "            pass\n",
    "        class noact(Exception):\n",
    "            pass\n",
    "        try:\n",
    "            if self.standard==10:\n",
    "                raise highstd\n",
    "        except highstd:\n",
    "            print(\"THE STUDENT IS NOT HAVE THE CHANCE TO PARTICIPATE IN CO-CURRICULAR ACTIVITIES\")\n",
    "        else:\n",
    "            print(\"THE STUDENT IS ELLIGIBLE TO LEARN EXTRA CO-CURRICULAR ACTIVITIES\")\n",
    "            CO_ACTS=[\"STUDENT COUNCIL\",\"SCHOOL NEWSPAPER\",\"DRAMA\",\"BOOK CLUB\",\"POETRY\",\"EDITING\",\"MASS DRILL\",\"CULTURAL EVENTS\",\"SOCIAL WORKK\"]\n",
    "            print(\"THE FOLLOWING ARE THE CO-CURRICULAR ACTIVITIES IN THE SCHOOL\")\n",
    "            print(*CO_ACTS,sep=\",\")\n",
    "            try:\n",
    "                stu_co_act=input(f\"ENTER THE ACTIVITY WHICH {self.name} IS LIKELY TO PARTICIPATE IN THE ABOVE LIST:\")\n",
    "                stu_co_act=stu_co_act.upper()\n",
    "                if stu_co_act not in CO_ACTS:\n",
    "                    raise noact\n",
    "            except noact:\n",
    "                print(\"PLEASE,TRY AGAIN\")\n",
    "                print(\"NEXT TIME CHOOSE WISELY WIHIN THE ABOVE ACTVITY LIST ONLY\")\n",
    "            else:\n",
    "                print(f\"GOOD CHOICE!AND WISH YOU GOOD LUCK TO GAIN GOOD KNOWLEDGE IN THE {stu_co_act} ACTIVITY\")\n",
    "        finally:\n",
    "            print(\"THE CO-CURRICULAR ACTIVITIES SESSION ENDED\")\n",
    "class STANDARDS:\n",
    "    standards=[]\n",
    "    sub_num=[5,6]\n",
    "    max_att_per=100\n",
    "    max_sch_time_high=10\n",
    "    max_sch_time_pri=7\n",
    "    def __init__(self,name,no_subjects,min_att_per,max_cap,max_sch_time,stu_list):\n",
    "        for i in stu_list:\n",
    "            if i.standard not in STANDARDS.standards:\n",
    "                STANDARDS.standards.append(i.standard)\n",
    "        STANDARDS.standards.sort()\n",
    "        class noclass(Exception):\n",
    "            pass\n",
    "        class Invalidnum(Exception):\n",
    "            pass\n",
    "        class Overatt(Exception):\n",
    "            pass\n",
    "        class Overtime(Exception):\n",
    "            pass\n",
    "        try:\n",
    "            if name not in STANDARDS.standards:\n",
    "                raise noclass\n",
    "            self.name=name\n",
    "        except noclass:\n",
    "            print(f\"NO STUDENTS DETAILS ENTERED FOR THE CLASS {name}\")\n",
    "            print(\"TRY FOR ANOTHER CLASS\")        \n",
    "        else:\n",
    "            try:\n",
    "                if self.name<=5:\n",
    "                    if no_subjects!=STANDARDS.sub_num[0]:\n",
    "                        raise Invalidnum\n",
    "                else:\n",
    "                    if no_subjects!=STANDARDS.sub_num[1]:\n",
    "                        raise Invalidnum\n",
    "                self.no_subjects=no_subjects\n",
    "            except Invalidnum:\n",
    "                print(\"THE PRIMARY CLASS STUDENTS CONTAINS FIVE SUBJECTS AND HIGHER STUDENTS HAVE SIX\")\n",
    "                if self.name<=5:\n",
    "                    while(True):\n",
    "                        self.no_subjects=int(input(\"ENTER VALID NUMBER OF SUBJECTS:\"))\n",
    "                        if self.no_subjects==STANDARDS.sub_num[0]:\n",
    "                            break\n",
    "                else:\n",
    "                    while(True):\n",
    "                        self.no_subjects=int(input(\"ENTER VALID NUMBER OF SUBJECTS:\"))\n",
    "                        if self.no_subjects==STANDARDS.sub_num[1]:\n",
    "                            break\n",
    "        try:\n",
    "            if min_att_per>=STANDARDS.max_att_per:\n",
    "                raise Overatt\n",
    "            self.min_att_per=min_att_per         #MINIMUM ATTENDANCE PERCENTAGE\n",
    "        except Overatt:\n",
    "            print(\"THE MINIMUM ATTENDANCE PERCENT FOR A STUDENT IN A YEAR SHOULD NOT BE 100 OR ABOVE PERCENT\")\n",
    "            while(True):\n",
    "                self.min_att_per=int(input(\"ENTER THE ACCEPTABLE MINIMUM ATTENDANCE PERCENT:\"))\n",
    "                if self.min_att_per<STANDARDS.max_att_per:\n",
    "                    break\n",
    "        self.max_cap=max_cap\n",
    "        try:\n",
    "            if self.name<=5:\n",
    "                if max_sch_time>=STANDARDS.max_sch_time_pri:\n",
    "                    raise Overtime\n",
    "            else:\n",
    "                if max_sch_time>=STANDARDS.max_sch_time_high:\n",
    "                    raise Overtime\n",
    "            self.max_sch_time=max_sch_time         #MAXIMUM TIME TO SPEND IN ANY SCHOOL FOR THE CLASS STUDENTS\n",
    "        except Overtime:\n",
    "            if self.name<=5:\n",
    "                print(f\"THE PRIMARY STUDENT MAXIMUM SCHOOL TIME SHOULD BE LESS THAN {STANDARDS.max_sch_time_pri} HOURS\")\n",
    "                while(True):\n",
    "                    self.max_sch_time=int(input(\"ENTER THE SCHOOL TIME BELOW MAX_TIME:\"))\n",
    "                    if self.max_sch_time<STANDARDS.max_sch_time_pri:\n",
    "                        break\n",
    "            else:\n",
    "                print(f\"THE HIGHER STUDENT MAXIMUM SCHOOL TIME SHOUULD BE LESS THAN {STANDARDS.max_sch_time_high} HOURS\")\n",
    "                while(True):\n",
    "                    self.max_sch_time=int(input(\"ENTER THE SCHOOL TIME BELOW MAX_TIME:\"))\n",
    "                    if self.max_sch_time<STANDARDS.max_sch_time_high:\n",
    "                        break\n",
    "        finally:\n",
    "            print(f\"THE CLASS {self.name} GENERAL DETAILS ENTRY IS COMPLETED\")\n",
    "        self.stu_list=stu_list\n",
    "    def cls_details(self):\n",
    "        print(f\"THE DETAILS OF CLASS{self.name} ARE AS FOLLOWS:\")\n",
    "        print(f\"THIS IS CLASS {self.name}\")\n",
    "        print(f\"NUMBER OF SUBJECTS FOR THIS CLASS STUDENTS ARE {self.no_subjects}\")\n",
    "        print(f\"MINIMUM ATTENDANCE PERCENTAGE REQUIRED FOR THIS CLASS STUDENTS IS {self.min_att_per}%\")\n",
    "        print(f\"THE NUMBER OF STUDENTS IN THIS CLASS INCLUDING ALL SECTIONS SHOULD NOT EXCEED {self.max_cap} STUDENTS\")\n",
    "        print(f\"THE STUDENTS SHOULD SPEND ONLY {self.max_sch_time} HOURS TIME IN THE SCHOOL\")\n",
    "    def cls_students(self):\n",
    "        self.CLASS=[]\n",
    "        for i in self.stu_list:\n",
    "            if i.standard==self.name:\n",
    "                self.CLASS.append(i)\n",
    "        print(f\"STUDENTS OF THE CLASS {self.name} ARE AS FOLLOWS\")\n",
    "        for i in self.CLASS:            \n",
    "            print(i.name,end=' ')\n",
    "            print(i.section)\n",
    "        self.stu_list=self.CLASS\n",
    "    def SECT_STU(self):\n",
    "        self.SECTS={}\n",
    "        for i in self.CLASS:\n",
    "            if i.section in self.SECTS.keys():\n",
    "                self.SECTS[i.section].append(i)\n",
    "            else:\n",
    "                SECT_NAME=f\"{i.section}\"\n",
    "                self.SECTS[SECT_NAME]=[]\n",
    "                self.SECTS[i.section].append(i)\n",
    "        for j in self.SECTS.keys():\n",
    "            if self.SECTS[j]==[]:\n",
    "                pass\n",
    "            else:\n",
    "                print(f\"CLASS {self.name} SECTION_{j} STUDENTS ARE:\")\n",
    "                for k in self.SECTS[j]:\n",
    "                    print(f\"{k.name}\")\n",
    "    def GENDER(self):\n",
    "        for i in self.SECTS.keys():         \n",
    "            G1=[]\n",
    "            G2=[]\n",
    "            for j in self.SECTS.get(i):\n",
    "                if j.gender=='MALE':\n",
    "                    G1.append(j)\n",
    "                if j.gender=='FEMALE':\n",
    "                    G2.append(j)\n",
    "            self.SECTS[i]=[]\n",
    "            self.SECTS[i].append(G1)\n",
    "            self.SECTS[i].append(G2)\n",
    "            print()\n",
    "            print(f\"MALE STUDENTS OF CLASS {self.name} AND SECTION_{i} ARE AS FOLLOWS:\")\n",
    "            for k in self.SECTS[i][0]:\n",
    "                print(k.name,k.gender)\n",
    "            print()\n",
    "            print(f\"FEMALE STUDENTS OF CLASS {self.name} AND SECTION_{i} ARE AS FOLLOWS:\")\n",
    "            for k in self.SECTS[i][1]:\n",
    "                print(k.name,k.gender)\n",
    "            print()\n",
    "            print()\n",
    "    def CLASSROOM(self):\n",
    "        print(\"THE MALE STUDENTS SITS ON THE RIGHT SIDE BENCHES IN THE CLASSROOM\")\n",
    "        print(\"THE FEMALE STUDENTS SITS ON THE LEFT SIDE BENCHES IN THE CLASSROOM\")\n",
    "        RIGHT=[]\n",
    "        LEFT=[]\n",
    "        for i in self.SECTS.keys():\n",
    "            for k in self.SECTS[i][0]:\n",
    "                RIGHT.append(k)\n",
    "            for k in self.SECTS[i][1]:\n",
    "                LEFT.append(k)\n",
    "        print(f\"IT MEANS THE STUDENTS ON THE RIGHT BENCHES IN CLASS {self.name} ARE AS FOLLOWS:\")\n",
    "        for j in RIGHT:\n",
    "            print(j.name,end=' ')\n",
    "        print()\n",
    "        print(f\"THE STUDENTS ON THE LEFT BENCHES IN CLASS {self.name} ARE AS FOLLOWS:\")\n",
    "        for j in LEFT:\n",
    "            print(j.name,end=' ')\n",
    "        print()\n",
    "    def SUBJECTS(self):\n",
    "        if self.name<=5:\n",
    "            print(\"THE SUBJECTS FOR PRIMARY STUDENTS ARE\")\n",
    "            print(\"TELUGU\",\"HINDI\",\"ENGLISH\",\"MATHS\",\"EVS\",sep=',')\n",
    "        elif(self.name<=7):\n",
    "            print(\"THE SUBJECTS FOR UPPER PRIMARY STUDENTS ARE\")\n",
    "            print(\"TELUGU\",\"HINDI\",\"ENGLISH\",\"MATHS\",\"SCIENCE\",\"SOCIAL\",sep=',')\n",
    "        else:\n",
    "            print(\"THE SUBJECTS FOR HIGHER CLASS STUDENTS ARE\")\n",
    "            print(\"TELUGU\",\"HINDI\",\"ENGLISH\",\"MATHS\",\"SCIENCE\",\"SOCIAL\",sep=\",\")\n",
    "            print(\"HERE SCIENCE IS CLASSIFIED INTO TWO PARTS\")\n",
    "            print(\"SCIENCE=\",[\"PHYSICAL SCIENCE\",\"BIOLOGICAL SCIENCE\"])\n",
    "            print(\"PHYSICAL SCIECNE=\",[\"PHYSICS\",\"CHEMISTRY\"])\n",
    "    def PERIODS(self):\n",
    "        if self.name<=5:\n",
    "            print(f\"THE SCHOOL TIME FOR PRIMARY STUDENS IS {self.max_sch_time} HOURS\")\n",
    "            print(\"FIVE GENERAL PERIODS FOR FIVE SUBJECTS\")\n",
    "            print(\"EACH PERIOD SHOULD BE OF 40 MIN ONLY\")\n",
    "            print(f\"THREE PERIODS SHOULD BE FOR PLAYTIME WITHIN {self.max_sch_time} HOURS OF 45MIN EACH\")\n",
    "            print(f\"IF TIME LEFT,THE REMAINING TIME OF {self.max_sch_time} HOURS SHOULD BE USED ACCORDINGLY\")\n",
    "        elif(self.name<=7):\n",
    "            print(f\"THE SCHOOL TIME FOR UPPER PRIMARY STUDENS IS {self.max_sch_time} HOURS\")\n",
    "            print(\"SIX GENERAL PERIODS FOR SIX SUBJECTS\")\n",
    "            print(\"EACH PERIOD SHOULD BE OF 45 MIN ONLY\")\n",
    "            print(f\"TWO PERIODS SHOULD BE FOR PLAYTIME WITHIN {self.max_sch_time} HOURS OF 45MIN EACH\")\n",
    "            print(f\"IF TIME LEFT,THE REMAINING TIME OF {self.max_sch_time} HOURS SHOULD BE USED ACCORDINGLY\")\n",
    "        else:\n",
    "            print(f\"THE SCHOOL TIME FOR HIGHER STUDENS IS {self.max_sch_time} HOURS\")\n",
    "            print(\"EIGHT GENERAL PERIODS FOR SIX SUBJECTS\")\n",
    "            print(\"EACH PERIOD SHOULD BE OF 45 MIN ONLY\")\n",
    "            print(f\"ONE PERIOD SHOULD BE FOR PLAYTIME WITHIN {self.max_sch_time} HOURS OF 1HOUR\")\n",
    "            print(f\"IF TIME LEFT,THE REMAINING TIME OF {self.max_sch_time} HOURS SHOULD BE USED ACCORDINGLY\")\n",
    "\n",
    "class SCHOOLS:\n",
    "    sch_name_chars=[string.whitespace[0]]\n",
    "    for i in range(26):\n",
    "        sch_name_chars.append(string.ascii_uppercase[i])\n",
    "    max_sch_work_time=10\n",
    "    SY_BOARDS=['ICSE','CBSE','CCE','IB','CIE','NIOS']\n",
    "    def __init__(self,sch_name,sch_time,no_stands,sch_addr,no_branch,sy_board,c_no,standards_list):\n",
    "        class Invalidname(Exception):\n",
    "            pass\n",
    "        class Overtime(Exception):\n",
    "            pass\n",
    "        class Invalidboard(Exception):\n",
    "            pass\n",
    "        class Invalidcontact(Exception):\n",
    "            pass\n",
    "        try:\n",
    "            sch_name=sch_name.upper()\n",
    "            for i in sch_name:\n",
    "                if i not in SCHOOLS.sch_name_chars:\n",
    "                    raise Invalidname\n",
    "                else:\n",
    "                    pass\n",
    "            self.sch_name=sch_name\n",
    "        except Invalidname:\n",
    "            print(\"SCHOOL NAME SHOULD CONTAIN ONLY ALPHABETS\")\n",
    "            while(True):                \n",
    "                self.sch_name=input(\"ENTER VALID SCHOOL NAME:\")\n",
    "                self.sch_name=self.sch_name.upper()\n",
    "                for i in self.sch_name:\n",
    "                    if i not in SCHOOLS.sch_name_chars:\n",
    "                        self.sch_name=''\n",
    "                        break\n",
    "                if len(self.sch_name)>2:\n",
    "                    print(self.sch_name)\n",
    "                    break\n",
    "        try:\n",
    "            if sch_time>=SCHOOLS.max_sch_work_time:\n",
    "                raise Overtime\n",
    "            print(\"THE SCHOOL RUNTIME IS WITHIN THE LIMIT\")\n",
    "            self.sch_time=input(\"NOW PLEASE ENTER THE SCHOOL TIMINGS:\")\n",
    "            self.sch_time.upper()\n",
    "        except Overtime:\n",
    "            print(f\"THE MAXIMUM SCHOOL RUNNING TIME SHOULD NOT EXCEED {SCHOOLS.max_sch_work_time} HOURS\")\n",
    "            while(True):\n",
    "                sch_time=int(input(\"ENTER VALID RUNTIME:\"))\n",
    "                if sch_time<SCHOOLS.max_sch_work_time:\n",
    "                    print(\"THE SCHOOL RUNTIME IS WITHIN THE LIMIT\")\n",
    "                    self.sch_time=input(\"NOW PLEASE ENTER THE SCHOOL TIMINGS:\")\n",
    "                    self.sch_time.upper()\n",
    "                    break\n",
    "        self.no_stands=no_stands\n",
    "        self.sch_addr=sch_addr.upper()\n",
    "        self.no_branch=no_branch\n",
    "        try:\n",
    "            if sy_board not in SCHOOLS.SY_BOARDS:\n",
    "                raise Invalidboard\n",
    "            self.sy_board=sy_board.upper()\n",
    "        except Invalidboard:\n",
    "            print(\"THE FOLLOWING ARE MOSTLY ADAPTED SYLLABUS BOARDS BY THE SCHOOLS\")\n",
    "            for i in SCHOOLS.SY_BOARDS:\n",
    "                if i!=SCHOOLS.SY_BOARDS[len(SCHOOLS.SY_BOARDS)-1]:\n",
    "                    print(i,end=',')\n",
    "                else:\n",
    "                    print(i)\n",
    "            while(True):\n",
    "                Confirm=input(\"Since You Have Entered An Unknown Board Please Confirm That Do You Still Want To Keep The Same Board(Y/N):\")\n",
    "                Confirm=Confirm.lower()\n",
    "                if not re.match(\"^[y&n]\",Confirm):\n",
    "                    print(\"Error! Only letters Y AND N allowed!\")\n",
    "                    print(\"PLEASE CONFIRM AGAIN\")\n",
    "                elif Confirm=='y':                    \n",
    "                    self.sy_board=sy_board\n",
    "                    break\n",
    "                else:\n",
    "                    print(\"OK!THEN CHOOSE FROM THE FOLLOWING BOARDS\")\n",
    "                    for i in SCHOOLS.SY_BOARDS:\n",
    "                        if i!=SCHOOLS.SY_BOARDS[len(SCHOOLS.SY_BOARDS)-1]:\n",
    "                            print(i,end=',')\n",
    "                        else:\n",
    "                            print(i)\n",
    "                    self.sy_board=input().upper()\n",
    "                if self.sy_board in SCHOOLS.SY_BOARDS:\n",
    "                    break\n",
    "                else:\n",
    "                    print(\"INVALID INPUT,CONFIRM AGAIN\")                    \n",
    "        try:\n",
    "            if len(str(c_no))!=10:\n",
    "                raise Invalidcontact\n",
    "            self.c_no=c_no\n",
    "        except Invalidcontact:\n",
    "            print(\"CONTACT NUMBER CONTAINS ONLY 10DIGITS IN MAXIMUM\")\n",
    "            while(True):\n",
    "                self.c_no=int(input(\"ENTER VALID CONTACT:\"))\n",
    "                if len(str(self.c_no))==10:\n",
    "                    break\n",
    "        finally:\n",
    "            print(f\"THE {self.sch_name} SCHOOL GENERAL DETAILS ENTRY IS COMPLETED\")\n",
    "        self.standards_list=standards_list\n",
    "    def sch_details(self):\n",
    "        print(f\"OUR SCHOOL NAME IS {self.sch_name}\")\n",
    "        print(f\"THE SCHOOL TIMINGS ARE {self.sch_time}\")\n",
    "        print(f\"THE NUMBER OF STANDARDS IN THIS SCHOOL ARE {self.no_stands}\")\n",
    "        print(f\"ADDRESS OF THE SCHOOL: {self.sch_addr}\")\n",
    "        print(f\"NUMBER OF BRANCHES OF THE SCHOOL ARE {self.no_branch}\")\n",
    "        print(f\"THE SYLLABUS ADAPTED BY THE SCHOOL IS {self.sy_board}\")\n",
    "        print(f\"CONTACT NUMBER: {self.c_no}\")\n",
    "    def C_YEAR_DET(self):\n",
    "        print(f\"THE CURRENT YEAR INFO OF THE {self.sch_name} SCHOOL IS AS FOLLOWS\")\n",
    "        self.SCHOOL=[]\n",
    "        self.CY_SCHOOL=[]\n",
    "        for i in range(1,self.no_stands+1):\n",
    "            CLASS=[f\"CLASS_{int(i)}\"]\n",
    "            self.SCHOOL.append(CLASS)\n",
    "        for j in self.standards_list:\n",
    "            STU=[]\n",
    "            for k in j.stu_list:\n",
    "                if k.sch_name==self.sch_name:\n",
    "                    for i in self.SCHOOL:                    \n",
    "                        if i[0]==f\"CLASS_{k.standard}\":                        \n",
    "                            STU.append(k)\n",
    "                            break\n",
    "            if STU!=[]:\n",
    "                for i in self.SCHOOL:\n",
    "                    if i[0]==f\"CLASS_{STU[0].standard}\":                             \n",
    "                        i.append(STU)\n",
    "                        break\n",
    "        for i in self.SCHOOL:\n",
    "            if len(i)>1:\n",
    "                self.CY_SCHOOL.append(i)\n",
    "        SCHOOL=[]\n",
    "        for i in self.CY_SCHOOL:\n",
    "            CLASS=[f\"CLASS_{i[0]}\",[],[]]\n",
    "            for j in i[1]:\n",
    "                CLASS[1].append(j.name)\n",
    "                CLASS[2].append(j.percent)\n",
    "            SCHOOL.append(CLASS)\n",
    "        head=[\"CLASS NAME\",\"STUDENTS\",\"PERCENTAGES\"]\n",
    "        print(tabulate(SCHOOL,headers=head,tablefmt=\"rounded_grid\"))\n",
    "    def N_YEAR_DET(self):\n",
    "        print(f\"THE NEXT YEAR INFO OF THE {self.sch_name} SCHOOL IS AS FOLLOWS\")\n",
    "        self.NY_SCHOOL=[]\n",
    "        for i in self.CY_SCHOOL:\n",
    "            if i==self.CY_SCHOOL[0]:\n",
    "                N_CLASS=[f\"CLASS_{int(i[1][0].standard)+1}\"]\n",
    "                CLASS=[f\"CLASS_{int(i[1][0].standard)}\"]\n",
    "                STU=[]\n",
    "                N_STU=[]\n",
    "                for j in i[1]:\n",
    "                    if j.percent>75:\n",
    "                        N_STU.append(copy.deepcopy(j))\n",
    "                    else:\n",
    "                        STU.append(copy.deepcopy(j))\n",
    "                if STU!=[]:\n",
    "                    CLASS.append(STU)\n",
    "                if N_STU!=[]:\n",
    "                    N_CLASS.append(N_STU)\n",
    "                if len(CLASS)>1:\n",
    "                    self.NY_SCHOOL.append(CLASS)\n",
    "                if len(N_CLASS)>1:\n",
    "                    self.NY_SCHOOL.append(N_CLASS)\n",
    "            if i!=self.CY_SCHOOL[len(self.CY_SCHOOL)-1] and i!=self.CY_SCHOOL[0]:\n",
    "                N_CLASS=[f\"CLASS_{int(i[1][0].standard)+1}\"]\n",
    "                N_STU=[]\n",
    "                CLASS=[f\"CLASS_{int(i[1][0].standard)}\"]\n",
    "                STU=[]\n",
    "                for j in i[1]:\n",
    "                    if j.percent>75:\n",
    "                        N_STU.append(copy.deepcopy(j))\n",
    "                    else:\n",
    "                        for k in self.NY_SCHOOL:\n",
    "                            if k[0]==f\"CLASS_{j.standard}\":\n",
    "                                k[1].append(copy.deepcopy(j))\n",
    "                            else:\n",
    "                                STU.append(copy.deepcopy(j))\n",
    "                if STU!=[]:\n",
    "                    CLASS.append(STU)\n",
    "                if N_STU!=[]:\n",
    "                    N_CLASS.append(N_STU)\n",
    "                if len(CLASS)>1:\n",
    "                    self.NY_SCHOOL.append(CLASS)\n",
    "                if len(N_CLASS)>1:\n",
    "                    self.NY_SCHOOL.append(N_CLASS)\n",
    "            if i==self.CY_SCHOOL[len(self.CY_SCHOOL)-1]:\n",
    "                N_CLASS=[f\"CLASS_{int(i[1][0].standard)+1} SCHOOL MIGRATORS\"]\n",
    "                N_STU=[]\n",
    "                for j in i[1]:\n",
    "                    if j.percent>75:\n",
    "                        N_STU.append(copy.deepcopy(j))\n",
    "                    else:\n",
    "                        for i in self.NY_SCHOOL:\n",
    "                            if i[0]==f\"CLASS_{j.standard}\":\n",
    "                                i[1].append(copy.deepcopy(j))\n",
    "                if N_STU!=[]:\n",
    "                    N_CLASS.append(N_STU)\n",
    "                if len(N_CLASS)>1:\n",
    "                    self.NY_SCHOOL.append(N_CLASS)\n",
    "        for i in self.NY_SCHOOL:\n",
    "            for j in i[1]:\n",
    "                if j.percent>75:\n",
    "                    j.standard=j.standard+1\n",
    "        N_SCHOOL=[]\n",
    "        for i in self.NY_SCHOOL:\n",
    "            CLASS=[f\"CLASS_{i[0]}\",[],[]]\n",
    "            for j in i[1]:\n",
    "                CLASS[1].append(j.name)\n",
    "                CLASS[2].append(j.percent)\n",
    "            N_SCHOOL.append(CLASS)\n",
    "        head=[\"CLASS NAME\",\"STUDENTS\",\"PERCENTAGES\"]\n",
    "        print(tabulate(N_SCHOOL,headers=head,tablefmt=\"rounded_grid\"))\n",
    "    def promotion_status(self,stu_name):\n",
    "        self.stu_name=stu_name.upper()\n",
    "        for i in self.CY_SCHOOL:\n",
    "            for j in i[1]:\n",
    "                if self.stu_name==j.name:\n",
    "                    for k in self.NY_SCHOOL:\n",
    "                        for l in k[1]:\n",
    "                            if self.stu_name==l.name and l.standard==j.standard+1:\n",
    "                                print(f'YES!THE STUDENT {self.stu_name} IS PROMOTED FROM THE CLASS {j.standard} TO THE NEXT CLASS {l.standard}')\n",
    "    def STU_TRANSFERS(self,stu_name):\n",
    "        self.stu_name=stu_name.upper()\n",
    "        print(f\"THE STUDENT {self.stu_name} IS APPLIED FOR TRANSFER FROM THE SCHOOL {self.sch_name}\")\n",
    "        for i in self.NY_SCHOOL:\n",
    "            for j in i[1]:\n",
    "                if j.name==self.stu_name:\n",
    "                    i[1].remove(j)\n",
    "                    print(f\"THE STUDENT IS TRANSFERRED SUCCESSFULLY FROM THE SCHOOL {self.sch_name}\")\n",
    "                    break\n",
    "                else:\n",
    "                    pass\n",
    "        for i in self.NY_SCHOOL:\n",
    "            if i[1][0].standard>self.no_stands:            \n",
    "                print(f\"THE STUDETNS WHO COMPLETED THEIR SCHOOL EDUCATION IN THE {self.sch_name} ARE AS FOLLOWS\")\n",
    "                for j in i[1]:\n",
    "                    print(j.name)\n",
    "                self.NY_SCHOOL.remove(i)\n",
    "                break\n",
    "        print()\n",
    "        print(f\"THE ABOVE ALL STUDENTS CAN JOIN IN COLLEGES WITHOUT ANY FAIL\")\n",
    "        print(f\"THESE STUDENTS ARE SUCCESFULLY TRANSFERRED FROM THE SCHOOL\")\n",
    "        print(f\"THE NEXT YEAR INFO OF THE {self.sch_name} SCHOOL AFTER STUDENT TRANSFERS IS AS FOLLOWS\")\n",
    "        N_SCHOOL=[]\n",
    "        for i in self.NY_SCHOOL:\n",
    "            CLASS=[f\"CLASS_{i[0]}\",[],[]]\n",
    "            for j in i[1]:\n",
    "                CLASS[1].append(j.name)\n",
    "                CLASS[2].append(j.percent)\n",
    "            N_SCHOOL.append(CLASS)\n",
    "        head=[\"CLASS NAME\",\"STUDENTS\",\"PERCENTAGES\"]\n",
    "        print(tabulate(N_SCHOOL,headers=head,tablefmt=\"rounded_grid\"))\n",
    "    def NEW_ADMISSIONS(self,name,gender,age,sch_name,standard,section,r_no,c_no,percent):\n",
    "        n_stu=STUDENTS(name,gender,age,sch_name,standard,section,r_no,c_no,percent)\n",
    "        n_stu.stu_details()\n",
    "        st_list=[]\n",
    "        for i in self.NY_SCHOOL:\n",
    "            st_list.append(i[1][0].standard)\n",
    "        if n_stu.standard+1 in st_list:\n",
    "            if n_stu.percent>60:\n",
    "                for i in self.NY_SCHOOL:\n",
    "                    if i[0]==f\"CLASS_{n_stu.standard+1}\":                \n",
    "                        i[1].append(n_stu)\n",
    "                        print(f\"THE STUDENT IS SUCCESSFULLY ADMITTED INTO THE CLASS {n_stu.standard+1} IN THE SCHOOL\")\n",
    "                        break\n",
    "            else:\n",
    "                print(f\"THE STUDENT ANNUAL YEAR PERCENTAGE OF THE CLASS {n_stu.standard} IS VERY POOR(LESS THAN 60),HE WON'T BE ADMITTED INTO THE NEXT CLASS {n_stu.standard+1} DIRECTLY\")\n",
    "                command=input(\"DO YOU WANT HIS/HER ADMISSION INTO THEIR SAME CLASS(Y/N):\")\n",
    "                command=command.lower()\n",
    "                if not re.match(\"^[y&n]\",command):\n",
    "                    print(\"Error! Only letters Y AND N allowed!\")\n",
    "                    print(\"PLEASE TRY AGAIN\")\n",
    "                else:\n",
    "                    if command=='y':\n",
    "                        for i in self.NY_SCHOOL:\n",
    "                            if i[0]==f\"CLASS_{n_stu.standard}\":                \n",
    "                                i[1].append(n_stu)\n",
    "                                print(f\"THE STUDENT IS SUCCESSFULLY ADMITTED INTO THE CLASS {n_stu.standard} IN THE SCHOOL\")\n",
    "                                break\n",
    "                    else:\n",
    "                        print(\"THANK YOU,BETTER LUCK NEXT TIME\")\n",
    "        else:\n",
    "            if n_stu.percent>60:\n",
    "                CLASS=[f\"CLASS_{n_stu.standard+1}\"]\n",
    "                STU=[]\n",
    "                STU.append(n_stu)\n",
    "                CLASS.append(STU)\n",
    "                for i in st_list:\n",
    "                    if i-1==n_stu.standard+1:\n",
    "                        self.NY_SCHOOL.insert(0,CLASS)\n",
    "                        break\n",
    "                    elif i+1==n_stu.standard+1:                    \n",
    "                        INDEX=st_list.index(i)\n",
    "                        self.NY_SCHOOL.insert(INDEX+1,CLASS)\n",
    "                        break\n",
    "                    elif i+1 not in st_list:\n",
    "                        INDEX=st_list.index(i)\n",
    "                        self.NY_SCHOOL.insert(INDEX+1,CLASS)\n",
    "                        break\n",
    "                    elif i<n_stu.standard+1 and i+2>n_stu.standard+1:\n",
    "                        INDEX=st_list.index(i)\n",
    "                        self.NY_SCHOOL.insert(INDEX+1,CLASS)\n",
    "                        break\n",
    "            else:\n",
    "                print(f\"THE STUDENT ANNUAL YEAR PERCENTAGE OF THE CLASS {n_stu.standard} IS VERY POOR(LESS THAN 60),HE WON'T BE ADMITTED INTO THE NEXT CLASS {n_stu.standard+1} DIRECTLY\")\n",
    "                command=input(\"DO YOU WANT HIS/HER ADMISSION INTO THEIR SAME CLASS(Y/N):\")\n",
    "                command=command.lower()\n",
    "                if not re.match(\"^[y&n]\",command):\n",
    "                    print(\"Error! Only letters Y AND N allowed!\")\n",
    "                    print(\"PLEASE TRY AGAIN\")\n",
    "                else:\n",
    "                    if command=='y':\n",
    "                        CLASS=[f\"CLASS_{n_stu.standard}\"]\n",
    "                        STU=[]\n",
    "                        STU.append(n_stu)\n",
    "                        CLASS.append(STU)\n",
    "                        for i in st_list:\n",
    "                            if i-1==n_stu.standard:\n",
    "                                self.NY_SCHOOL.insert(0,CLASS)\n",
    "                                break\n",
    "                            elif i+1==n_stu.standard:                    \n",
    "                                INDEX=st_list.index(i)\n",
    "                                self.NY_SCHOOL.insert(INDEX+1,CLASS)\n",
    "                                break\n",
    "                            elif i+1 not in st_list:\n",
    "                                INDEX=st_list.index(i)\n",
    "                                self.NY_SCHOOL.insert(INDEX+1,CLASS)\n",
    "                                break\n",
    "                            elif i<n_stu.standard and i+2>n_stu.standard:\n",
    "                                INDEX=st_list.index(i)\n",
    "                                self.NY_SCHOOL.insert(INDEX+1,CLASS)\n",
    "                                break\n",
    "                    else:\n",
    "                        print(\"THANK YOU,BETTER LUCK NEXT TIME\")\n",
    "        print(f\"THE NEXT YEAR INFO OF THE {self.sch_name} SCHOOL AFTER NEW ADMISSIONS IS AS FOLLOWS\")\n",
    "        N_SCHOOL=[]\n",
    "        for i in self.NY_SCHOOL:\n",
    "            CLASS=[f\"CLASS_{i[0]}\",[],[]]\n",
    "            for j in i[1]:\n",
    "                CLASS[1].append(j.name)\n",
    "                CLASS[2].append(j.percent)\n",
    "            N_SCHOOL.append(CLASS)\n",
    "        head=[\"CLASS NAME\",\"STUDENTS\",\"PERCENTAGES\"]\n",
    "        print(tabulate(N_SCHOOL,headers=head,tablefmt=\"rounded_grid\"))\n",
    "    def FEE(self,stu_name):\n",
    "        self.stu_name=stu_name.upper()\n",
    "        for i in self.NY_SCHOOL:\n",
    "            for j in i[1]:\n",
    "                if j.name==self.stu_name:\n",
    "                    fee=j.standard*5000\n",
    "                    print(f'THE FEE OF {self.stu_name} FOR THE NEXT YEAR FOR THE CLASS {j.standard} is {fee}')\n",
    "                    break\n",
    "    def t_removals(self):\n",
    "        TEACHERS=[['PRASAD','TELUGU',8],['RAMANA','HINDI',7],['SRINIVAS','ENGLISH',6],['MADHU','MATHS',8],['RASHIDA','PHYSICS',8],['RAJU','CHEMISTRY',5],['AHMAD','SOCIAL',8],['ARJUN','BIOLOGY',6],['PARVATHI','PET',8],['SARASWATHI','SANSKRIT',8]]\n",
    "        self.N_TEACHERS=[]\n",
    "        for i in TEACHERS:\n",
    "            if i[2]>=7:\n",
    "                self.N_TEACHERS.append(i)\n",
    "        print('THE STAFF REMOVED FROM THE SCHOOL ARE')\n",
    "        for i in TEACHERS:\n",
    "            if i[2]<7:\n",
    "                print(i[0],end=',')\n",
    "    def t_appoint(self,name,subject,t_points):\n",
    "        self.name=name.upper()\n",
    "        self.subject=subject.upper()\n",
    "        self.t_points=t_points\n",
    "        if self.t_points>=7:\n",
    "            self.N_TEACHERS.append([self.name,self.subject,self.t_points])\n",
    "        else:\n",
    "            print(\"SORRY!BETTER LUCK MEXT TIME\")\n",
    "        print('THE STAFF LIST AFTER NEW APPOINTMENTS')\n",
    "        print(self.N_TEACHERS)"
   ]
  },
  {
   "cell_type": "code",
   "execution_count": 318,
   "id": "f6c0f0e4-7b4d-4292-acd5-394d964428e8",
   "metadata": {},
   "outputs": [
    {
     "name": "stdout",
     "output_type": "stream",
     "text": [
      "THE STUDENT SIVA GENERAL DETAILS ENTRY IS COMPLETED\n",
      "THE STUDENT VENKAT GENERAL DETAILS ENTRY IS COMPLETED\n",
      "THE STUDENT PAVAN GENERAL DETAILS ENTRY IS COMPLETED\n",
      "THE STUDENT SRAVANI GENERAL DETAILS ENTRY IS COMPLETED\n",
      "THE STUDENT SYAMALA GENERAL DETAILS ENTRY IS COMPLETED\n",
      "THE STUDENT SAI GENERAL DETAILS ENTRY IS COMPLETED\n",
      "THE STUDENT KEERTHANA GENERAL DETAILS ENTRY IS COMPLETED\n",
      "THE STUDENT KARUNA GENERAL DETAILS ENTRY IS COMPLETED\n",
      "THE STUDENT KEVIN GENERAL DETAILS ENTRY IS COMPLETED\n",
      "THE STUDENT MARY GENERAL DETAILS ENTRY IS COMPLETED\n",
      "THE STUDENT KAIRA GENERAL DETAILS ENTRY IS COMPLETED\n",
      "THE STUDENT VARUN GENERAL DETAILS ENTRY IS COMPLETED\n",
      "THE STUDENT SIVARAJ GENERAL DETAILS ENTRY IS COMPLETED\n",
      "THE STUDENT VENKATESHWAR GENERAL DETAILS ENTRY IS COMPLETED\n",
      "THE STUDENT PAVANA VEER GENERAL DETAILS ENTRY IS COMPLETED\n",
      "THE STUDENT SRAVANI DEVI GENERAL DETAILS ENTRY IS COMPLETED\n",
      "THE STUDENT SYAMALA DEVI GENERAL DETAILS ENTRY IS COMPLETED\n",
      "THE STUDENT SAI KUMAR GENERAL DETAILS ENTRY IS COMPLETED\n",
      "THE STUDENT THANAMAI GENERAL DETAILS ENTRY IS COMPLETED\n",
      "THE STUDENT KARUNAKAR GENERAL DETAILS ENTRY IS COMPLETED\n",
      "THE STUDENT KEVIN ROY GENERAL DETAILS ENTRY IS COMPLETED\n",
      "THE STUDENT MARY JON GENERAL DETAILS ENTRY IS COMPLETED\n",
      "THE STUDENT KAIRASA GENERAL DETAILS ENTRY IS COMPLETED\n",
      "THE STUDENT VARUN DHAWAN GENERAL DETAILS ENTRY IS COMPLETED\n",
      "THE STUDENT DHAWAN GENERAL DETAILS ENTRY IS COMPLETED\n",
      "THE STUDENT DHANUSH GENERAL DETAILS ENTRY IS COMPLETED\n",
      "THE STUDENT ASHWIN GENERAL DETAILS ENTRY IS COMPLETED\n"
     ]
    }
   ],
   "source": [
    "s1=STUDENTS('SIVA','MALE',20,'PADMAVANI',9,'A',15,9491989611,100)\n",
    "s2=STUDENTS('VENKAT','MALE',20,'SAIVIJETHA',10,'A',18,8331877611,99)\n",
    "s3=STUDENTS('PAVAN','MALE',20,'PADMAVANI',8,'B',29,7989829361,100)\n",
    "s4=STUDENTS('SRAVANI','FEMALE',19,'SAIVIJETHA',9,'B',34,8247857395,98)\n",
    "s5=STUDENTS('SYAMALA','FEMALE',20,'SAIVIJETHA',10,'C',24,6303660676,87)\n",
    "s6=STUDENTS('SAI','MALE',19,'SAIVIJETHA',9,'B',34,8247687885,88)\n",
    "s7=STUDENTS('KEERTHANA','FEMALE',19,'SAIVIJETHA',9,'A',3,8253457595,80)\n",
    "s8=STUDENTS('KARUNA','MALE',19,'SAIVIJETHA',9,'A',4,9465454865,78)\n",
    "s9=STUDENTS('KEVIN','MALE',19,'SAIVIJETHA',9,'B',14,7346287685,68)\n",
    "s10=STUDENTS('MARY','FEMALE',19,'PADMAVANI',9,'A',30,6245565467,79)\n",
    "s11=STUDENTS('KAIRA','FEMALE',19,'SAIVIJETHA',9,'B',13,8763657565,75)\n",
    "s12=STUDENTS('VARUN','MALE',19,'SAIVIJETHA',8,'A',42,7458546894,66)\n",
    "s13=STUDENTS('SIVARAJ','MALE',20,'PADMAVANI',8,'A',15,9491989611,100)\n",
    "s14=STUDENTS('VENKATESHWAR','MALE',20,'PADMAVANI',10,'A',18,8331877611,99)\n",
    "s15=STUDENTS('PAVANA VEER','MALE',20,'PADMAVANI',8,'B',29,7989829361,100)\n",
    "s16=STUDENTS('SRAVANI DEVI','FEMALE',19,'SAIVIJETHA',8,'B',34,8247857395,98)\n",
    "s17=STUDENTS('SYAMALA DEVI','FEMALE',20,'PADMAVANI',10,'C',24,6303660676,87)\n",
    "s18=STUDENTS('SAI KUMAR','MALE',19,'PADMAVANI',8,'B',34,8247687885,88)\n",
    "s19=STUDENTS('THANAMAI','FEMALE',19,'SAIVIJETHA',8,'A',3,8253457595,80)\n",
    "s20=STUDENTS('KARUNAKAR','MALE',19,'PADMAVANI',8,'A',4,9465454865,78)\n",
    "s21=STUDENTS('KEVIN ROY','MALE',19,'PADMAVANI',10,'B',14,7346287685,68)\n",
    "s22=STUDENTS('MARY JON','FEMALE',19,'PADMAVANI',10,'A',30,6245565467,79)\n",
    "s23=STUDENTS('KAIRASA','FEMALE',19,'PADMAVANI',10,'B',13,8763657565,75)\n",
    "s24=STUDENTS('VARUN DHAWAN','MALE',19,'SAIVIJETHA',10,'A',42,7458546894,66)\n",
    "s25=STUDENTS('DHAWAN','MALE',19,'PADMAVANI',7,'A',42,7458546894,66)\n",
    "s26=STUDENTS('DHANUSH','MALE',19,'PADMAVANI',4,'A',42,7458546894,66)\n",
    "s27=STUDENTS('ASHWIN','MALE',20,'PADMAVANI',8,'A',15,9491989611,90)"
   ]
  },
  {
   "cell_type": "code",
   "execution_count": 319,
   "id": "71cfd7d4-4f43-43d1-8766-b66ed0aafd17",
   "metadata": {},
   "outputs": [
    {
     "name": "stdout",
     "output_type": "stream",
     "text": [
      "THE STUDENT DETAILS ARE AS FOLLOWS\n",
      "NAME OF THE STUDENT: SIVA\n",
      "GENDER: MALE\n",
      "AGE: 20\n",
      "SCHOOL NAME: PADMAVANI\n",
      "CLASS: 9\n",
      "SECTION: A\n",
      "ROLL NUMBER: 15\n",
      "CONTACT NUMBER: 9491989611\n",
      "ANNUAL PERCENTAGE: 100\n"
     ]
    }
   ],
   "source": [
    "s1.stu_details()"
   ]
  },
  {
   "cell_type": "code",
   "execution_count": 320,
   "id": "ae537501-764b-4861-84a3-5c2c266f672e",
   "metadata": {},
   "outputs": [
    {
     "name": "stdout",
     "output_type": "stream",
     "text": [
      "HI! SIVA HAVE A GREAT READING SESSION\n"
     ]
    },
    {
     "name": "stdin",
     "output_type": "stream",
     "text": [
      "ENTER THE SUBJECT SIVA WANTS TO READ: telugu\n"
     ]
    },
    {
     "name": "stdout",
     "output_type": "stream",
     "text": [
      "GOOD CHOICE! START READING THE TELUGU SUBJECT\n",
      "This is the content for you to read of your selected TELUGU subject\n",
      "యోగి వేమన, 17వ శతాబ్దంలో ప్రస్తుతం తెలుగు సాహిత్యంలో ఒక ప్రముఖ కవి-సేంట్‌పోయెట్‌. అతని పద్యాలు జీవితం, ప్రేమ, మరియు విశ్వాన్ని ప్రతినిధించే అంశాలను ప్రతిపాదిస్తాయి. అతని పద్యాలు సరళమైన భాషలో ఉంటాయి మరియు జీవితంలో అద్భుతమైన అంశాలను ప్రతిపాదిస్తాయి.\n",
      "READING SESSION ENDED\n"
     ]
    }
   ],
   "source": [
    "s1.read()"
   ]
  },
  {
   "cell_type": "code",
   "execution_count": 321,
   "id": "c11cd9ce-8827-4b4c-9d56-fec6f41f85f4",
   "metadata": {},
   "outputs": [
    {
     "name": "stdin",
     "output_type": "stream",
     "text": [
      "DO YOU WANT TO WRITE WHAT YOU HAVE READ(Y/N): y\n"
     ]
    },
    {
     "name": "stdout",
     "output_type": "stream",
     "text": [
      "HI! SIVA HAVE A GREAT WRITING SESSION\n"
     ]
    },
    {
     "name": "stdin",
     "output_type": "stream",
     "text": [
      "WRITE WHAT YOU HAVE READ: యోగి వేమన, 17వ శతాబ్దంలో ప్రస్తుతం తెలుగు సాహిత్యంలో ఒక ప్రముఖ కవి-సేంట్‌పోయెట్‌. అతని పద్యాలు జీవితం, ప్రేమ, మరియు విశ్వాన్ని ప్రతినిధించే అంశాలను ప్రతిపాదిస్తాయి. అతని పద్యాలు సరళమైన భాషలో ఉంటాయి మరియు జీవితంలో అద్భుతమైన అంశాలను ప్రతిపాదిస్తాయి.\n"
     ]
    },
    {
     "name": "stdout",
     "output_type": "stream",
     "text": [
      "YOU ARE CORRECTLY WRITTEN WHAT YOU HAVE READ\n",
      "WRITING SESSION ENDED\n"
     ]
    }
   ],
   "source": [
    "s1.write()"
   ]
  },
  {
   "cell_type": "code",
   "execution_count": 322,
   "id": "bd623626-62b8-4754-b9a2-5fbc902a8faf",
   "metadata": {},
   "outputs": [
    {
     "name": "stdout",
     "output_type": "stream",
     "text": [
      "YOU HAVE SUCCESSFULLY LEARNT THE CONTENT IN THE SUBJECT TELUGU\n",
      "LEARNING SESSION ENDED\n"
     ]
    }
   ],
   "source": [
    "s1.learn()"
   ]
  },
  {
   "cell_type": "code",
   "execution_count": 323,
   "id": "323f9d70-4f0c-4f93-8382-1bf0b5466392",
   "metadata": {},
   "outputs": [
    {
     "name": "stdout",
     "output_type": "stream",
     "text": [
      "THE GAMES PERIOD FOR CLASS 9 STUDENT IS 09\n",
      "THESE ARE THE GAMES PLAYED BY THE STUDENTS IN THE SCHOOL\n",
      "BADMINTON,BASKETBALL,CYCLING,TENNIS,CRICKET,CHESS,KABADDI,VOLLEYBALL,SWIMMING,KHOKHO\n",
      "NOW THE GAME PLAYED BY THE STUDENT SIVA IN RANDOM CHOICE BY THE PET TEACHER IS CRICKET\n"
     ]
    }
   ],
   "source": [
    "s1.play()"
   ]
  },
  {
   "cell_type": "code",
   "execution_count": 324,
   "id": "9d868f0d-8c82-40b4-b1cd-65e51ba523c8",
   "metadata": {},
   "outputs": [
    {
     "name": "stdout",
     "output_type": "stream",
     "text": [
      "THE STUDENT IS ELLIGIBLE TO LEARN EXTRA CO-CURRICULAR ACTIVITIES\n",
      "THE FOLLOWING ARE THE CO-CURRICULAR ACTIVITIES IN THE SCHOOL\n",
      "STUDENT COUNCIL,SCHOOL NEWSPAPER,DRAMA,BOOK CLUB,POETRY,EDITING,MASS DRILL,CULTURAL EVENTS,SOCIAL WORKK\n"
     ]
    },
    {
     "name": "stdin",
     "output_type": "stream",
     "text": [
      "ENTER THE ACTIVITY WHICH SIVA IS LIKELY TO PARTICIPATE IN THE ABOVE LIST: drama\n"
     ]
    },
    {
     "name": "stdout",
     "output_type": "stream",
     "text": [
      "GOOD CHOICE!AND WISH YOU GOOD LUCK TO GAIN GOOD KNOWLEDGE IN THE DRAMA ACTIVITY\n",
      "THE CO-CURRICULAR ACTIVITIES SESSION ENDED\n"
     ]
    }
   ],
   "source": [
    "s1.ext_acts()"
   ]
  },
  {
   "cell_type": "code",
   "execution_count": 325,
   "id": "735f51ab-0594-4b9a-a205-16d6643c59e1",
   "metadata": {},
   "outputs": [],
   "source": [
    "stu_list=[s1,s2,s3,s4,s5,s6,s7,s8,s9,s10,s11,s12,s13,s14,s15,s16,s17,s18,s19,s20,s21,s22,s23,s24,s25,s26,s27]"
   ]
  },
  {
   "cell_type": "code",
   "execution_count": 326,
   "id": "c882448b-3c5f-4e35-aaf1-da3586f13b4f",
   "metadata": {},
   "outputs": [
    {
     "name": "stdout",
     "output_type": "stream",
     "text": [
      "THE CLASS 9 GENERAL DETAILS ENTRY IS COMPLETED\n"
     ]
    }
   ],
   "source": [
    "st1=STANDARDS(9,6,75,60,9,stu_list)"
   ]
  },
  {
   "cell_type": "code",
   "execution_count": 327,
   "id": "2d177eb9-ba32-499a-b993-a4951fb85f1f",
   "metadata": {},
   "outputs": [
    {
     "name": "stdout",
     "output_type": "stream",
     "text": [
      "THE DETAILS OF CLASS9 ARE AS FOLLOWS:\n",
      "THIS IS CLASS 9\n",
      "NUMBER OF SUBJECTS FOR THIS CLASS STUDENTS ARE 6\n",
      "MINIMUM ATTENDANCE PERCENTAGE REQUIRED FOR THIS CLASS STUDENTS IS 75%\n",
      "THE NUMBER OF STUDENTS IN THIS CLASS INCLUDING ALL SECTIONS SHOULD NOT EXCEED 60 STUDENTS\n",
      "THE STUDENTS SHOULD SPEND ONLY 9 HOURS TIME IN THE SCHOOL\n"
     ]
    }
   ],
   "source": [
    "st1.cls_details()"
   ]
  },
  {
   "cell_type": "code",
   "execution_count": 328,
   "id": "02e62b80-09c6-4d9e-acb5-e79ed61f1454",
   "metadata": {},
   "outputs": [
    {
     "name": "stdout",
     "output_type": "stream",
     "text": [
      "STUDENTS OF THE CLASS 9 ARE AS FOLLOWS\n",
      "SIVA A\n",
      "SRAVANI B\n",
      "SAI B\n",
      "KEERTHANA A\n",
      "KARUNA A\n",
      "KEVIN B\n",
      "MARY A\n",
      "KAIRA B\n"
     ]
    }
   ],
   "source": [
    "st1.cls_students()"
   ]
  },
  {
   "cell_type": "code",
   "execution_count": 329,
   "id": "6be2b39f-7b54-49cf-b47e-04d4d42268dd",
   "metadata": {},
   "outputs": [
    {
     "name": "stdout",
     "output_type": "stream",
     "text": [
      "CLASS 9 SECTION_A STUDENTS ARE:\n",
      "SIVA\n",
      "KEERTHANA\n",
      "KARUNA\n",
      "MARY\n",
      "CLASS 9 SECTION_B STUDENTS ARE:\n",
      "SRAVANI\n",
      "SAI\n",
      "KEVIN\n",
      "KAIRA\n"
     ]
    }
   ],
   "source": [
    "st1.SECT_STU()"
   ]
  },
  {
   "cell_type": "code",
   "execution_count": 330,
   "id": "8fdae30d-dab3-4e89-a51f-77e47ebb7d10",
   "metadata": {},
   "outputs": [
    {
     "name": "stdout",
     "output_type": "stream",
     "text": [
      "\n",
      "MALE STUDENTS OF CLASS 9 AND SECTION_A ARE AS FOLLOWS:\n",
      "SIVA MALE\n",
      "KARUNA MALE\n",
      "\n",
      "FEMALE STUDENTS OF CLASS 9 AND SECTION_A ARE AS FOLLOWS:\n",
      "KEERTHANA FEMALE\n",
      "MARY FEMALE\n",
      "\n",
      "\n",
      "\n",
      "MALE STUDENTS OF CLASS 9 AND SECTION_B ARE AS FOLLOWS:\n",
      "SAI MALE\n",
      "KEVIN MALE\n",
      "\n",
      "FEMALE STUDENTS OF CLASS 9 AND SECTION_B ARE AS FOLLOWS:\n",
      "SRAVANI FEMALE\n",
      "KAIRA FEMALE\n",
      "\n",
      "\n"
     ]
    }
   ],
   "source": [
    "st1.GENDER()"
   ]
  },
  {
   "cell_type": "code",
   "execution_count": 331,
   "id": "0e86895d-d1fe-4e60-a6e7-e72a9c0129d7",
   "metadata": {},
   "outputs": [
    {
     "name": "stdout",
     "output_type": "stream",
     "text": [
      "THE MALE STUDENTS SITS ON THE RIGHT SIDE BENCHES IN THE CLASSROOM\n",
      "THE FEMALE STUDENTS SITS ON THE LEFT SIDE BENCHES IN THE CLASSROOM\n",
      "IT MEANS THE STUDENTS ON THE RIGHT BENCHES IN CLASS 9 ARE AS FOLLOWS:\n",
      "SIVA KARUNA SAI KEVIN \n",
      "THE STUDENTS ON THE LEFT BENCHES IN CLASS 9 ARE AS FOLLOWS:\n",
      "KEERTHANA MARY SRAVANI KAIRA \n"
     ]
    }
   ],
   "source": [
    "st1.CLASSROOM()"
   ]
  },
  {
   "cell_type": "code",
   "execution_count": 332,
   "id": "3eb24977-6fca-4e76-a144-7083b97215c5",
   "metadata": {},
   "outputs": [
    {
     "name": "stdout",
     "output_type": "stream",
     "text": [
      "THE SUBJECTS FOR HIGHER CLASS STUDENTS ARE\n",
      "TELUGU,HINDI,ENGLISH,MATHS,SCIENCE,SOCIAL\n",
      "HERE SCIENCE IS CLASSIFIED INTO TWO PARTS\n",
      "SCIENCE= ['PHYSICAL SCIENCE', 'BIOLOGICAL SCIENCE']\n",
      "PHYSICAL SCIECNE= ['PHYSICS', 'CHEMISTRY']\n"
     ]
    }
   ],
   "source": [
    "st1.SUBJECTS()"
   ]
  },
  {
   "cell_type": "code",
   "execution_count": 333,
   "id": "eecf7237-17b5-4484-beb8-3cb6f3748c47",
   "metadata": {},
   "outputs": [
    {
     "name": "stdout",
     "output_type": "stream",
     "text": [
      "THE SCHOOL TIME FOR HIGHER STUDENS IS 9 HOURS\n",
      "EIGHT GENERAL PERIODS FOR SIX SUBJECTS\n",
      "EACH PERIOD SHOULD BE OF 45 MIN ONLY\n",
      "ONE PERIOD SHOULD BE FOR PLAYTIME WITHIN 9 HOURS OF 1HOUR\n",
      "IF TIME LEFT,THE REMAINING TIME OF 9 HOURS SHOULD BE USED ACCORDINGLY\n"
     ]
    }
   ],
   "source": [
    "st1.PERIODS()"
   ]
  },
  {
   "cell_type": "code",
   "execution_count": 334,
   "id": "b81c55bb-a5c2-4b4c-9a36-f42c51b2180a",
   "metadata": {},
   "outputs": [
    {
     "name": "stdout",
     "output_type": "stream",
     "text": [
      "THE CLASS 8 GENERAL DETAILS ENTRY IS COMPLETED\n"
     ]
    }
   ],
   "source": [
    "st2=STANDARDS(8,6,75,60,7,stu_list)"
   ]
  },
  {
   "cell_type": "code",
   "execution_count": 335,
   "id": "031ea3fc-3c16-4e9e-9444-932747b06aaf",
   "metadata": {},
   "outputs": [
    {
     "name": "stdout",
     "output_type": "stream",
     "text": [
      "STUDENTS OF THE CLASS 8 ARE AS FOLLOWS\n",
      "PAVAN B\n",
      "VARUN A\n",
      "SIVARAJ A\n",
      "PAVANA VEER B\n",
      "SRAVANI DEVI B\n",
      "SAI KUMAR B\n",
      "THANAMAI A\n",
      "KARUNAKAR A\n",
      "ASHWIN A\n"
     ]
    }
   ],
   "source": [
    "st2.cls_students()"
   ]
  },
  {
   "cell_type": "code",
   "execution_count": 336,
   "id": "d6ebd7c9-1309-45b0-b540-7d8c95329892",
   "metadata": {},
   "outputs": [
    {
     "name": "stdout",
     "output_type": "stream",
     "text": [
      "THE CLASS 10 GENERAL DETAILS ENTRY IS COMPLETED\n"
     ]
    }
   ],
   "source": [
    "st3=STANDARDS(10,6,75,60,9,stu_list)"
   ]
  },
  {
   "cell_type": "code",
   "execution_count": 337,
   "id": "b316a967-b8ea-4115-aefd-2c8705dcbeb3",
   "metadata": {},
   "outputs": [
    {
     "name": "stdout",
     "output_type": "stream",
     "text": [
      "STUDENTS OF THE CLASS 10 ARE AS FOLLOWS\n",
      "VENKAT A\n",
      "SYAMALA C\n",
      "VENKATESHWAR A\n",
      "SYAMALA DEVI C\n",
      "KEVIN ROY B\n",
      "MARY JON A\n",
      "KAIRASA B\n",
      "VARUN DHAWAN A\n"
     ]
    }
   ],
   "source": [
    "st3.cls_students()"
   ]
  },
  {
   "cell_type": "code",
   "execution_count": 338,
   "id": "75f06fe3-15b0-41ca-9e0b-61cabcc0d6da",
   "metadata": {},
   "outputs": [
    {
     "name": "stdout",
     "output_type": "stream",
     "text": [
      "THE CLASS 7 GENERAL DETAILS ENTRY IS COMPLETED\n"
     ]
    }
   ],
   "source": [
    "st4=STANDARDS(7,6,75,60,7,stu_list)"
   ]
  },
  {
   "cell_type": "code",
   "execution_count": 339,
   "id": "dab4bc96-11f7-4e58-b28d-d569abba5f9f",
   "metadata": {},
   "outputs": [
    {
     "name": "stdout",
     "output_type": "stream",
     "text": [
      "STUDENTS OF THE CLASS 7 ARE AS FOLLOWS\n",
      "DHAWAN A\n"
     ]
    }
   ],
   "source": [
    "st4.cls_students()"
   ]
  },
  {
   "cell_type": "code",
   "execution_count": 340,
   "id": "ee292afe-bac3-418e-81a3-f59fb92a715c",
   "metadata": {},
   "outputs": [
    {
     "name": "stdout",
     "output_type": "stream",
     "text": [
      "THE PRIMARY CLASS STUDENTS CONTAINS FIVE SUBJECTS AND HIGHER STUDENTS HAVE SIX\n"
     ]
    },
    {
     "name": "stdin",
     "output_type": "stream",
     "text": [
      "ENTER VALID NUMBER OF SUBJECTS: 5\n"
     ]
    },
    {
     "name": "stdout",
     "output_type": "stream",
     "text": [
      "THE CLASS 4 GENERAL DETAILS ENTRY IS COMPLETED\n"
     ]
    }
   ],
   "source": [
    "st5=STANDARDS(4,6,75,60,6,stu_list)"
   ]
  },
  {
   "cell_type": "code",
   "execution_count": 341,
   "id": "e9fb6ece-e7d1-45ff-b969-fe412ba14ff5",
   "metadata": {},
   "outputs": [
    {
     "name": "stdout",
     "output_type": "stream",
     "text": [
      "STUDENTS OF THE CLASS 4 ARE AS FOLLOWS\n",
      "DHANUSH A\n"
     ]
    }
   ],
   "source": [
    "st5.cls_students()"
   ]
  },
  {
   "cell_type": "code",
   "execution_count": 342,
   "id": "b3692f35-7a07-4441-89b5-8040087dff14",
   "metadata": {},
   "outputs": [],
   "source": [
    "standards_list=[st1,st2,st3,st4,st5]"
   ]
  },
  {
   "cell_type": "code",
   "execution_count": 343,
   "id": "5bed0734-af34-4495-9dd8-359cec19c8c2",
   "metadata": {},
   "outputs": [
    {
     "name": "stdout",
     "output_type": "stream",
     "text": [
      "THE MAXIMUM SCHOOL RUNNING TIME SHOULD NOT EXCEED 10 HOURS\n"
     ]
    },
    {
     "name": "stdin",
     "output_type": "stream",
     "text": [
      "ENTER VALID RUNTIME: 9\n"
     ]
    },
    {
     "name": "stdout",
     "output_type": "stream",
     "text": [
      "THE SCHOOL RUNTIME IS WITHIN THE LIMIT\n"
     ]
    },
    {
     "name": "stdin",
     "output_type": "stream",
     "text": [
      "NOW PLEASE ENTER THE SCHOOL TIMINGS: 9am-5pm\n"
     ]
    },
    {
     "name": "stdout",
     "output_type": "stream",
     "text": [
      "THE FOLLOWING ARE MOSTLY ADAPTED SYLLABUS BOARDS BY THE SCHOOLS\n",
      "ICSE,CBSE,CCE,IB,CIE,NIOS\n"
     ]
    },
    {
     "name": "stdin",
     "output_type": "stream",
     "text": [
      "Since You Have Entered An Unknown Board Please Confirm That Do You Still Want To Keep The Same Board(Y/N): n\n"
     ]
    },
    {
     "name": "stdout",
     "output_type": "stream",
     "text": [
      "OK!THEN CHOOSE FROM THE FOLLOWING BOARDS\n",
      "ICSE,CBSE,CCE,IB,CIE,NIOS\n"
     ]
    },
    {
     "name": "stdin",
     "output_type": "stream",
     "text": [
      " cce\n"
     ]
    },
    {
     "name": "stdout",
     "output_type": "stream",
     "text": [
      "CONTACT NUMBER CONTAINS ONLY 10DIGITS IN MAXIMUM\n"
     ]
    },
    {
     "name": "stdin",
     "output_type": "stream",
     "text": [
      "ENTER VALID CONTACT: 7894875839\n"
     ]
    },
    {
     "name": "stdout",
     "output_type": "stream",
     "text": [
      "THE PADMAVANI SCHOOL GENERAL DETAILS ENTRY IS COMPLETED\n"
     ]
    }
   ],
   "source": [
    "sc1=SCHOOLS('Padmavani',10,10,'Vijayanagarcolony',2,'CISCE',79327392723,standards_list)"
   ]
  },
  {
   "cell_type": "code",
   "execution_count": 344,
   "id": "213c1260-735b-497b-b49e-21286b282020",
   "metadata": {},
   "outputs": [
    {
     "name": "stdout",
     "output_type": "stream",
     "text": [
      "OUR SCHOOL NAME IS PADMAVANI\n",
      "THE SCHOOL TIMINGS ARE 9am-5pm\n",
      "THE NUMBER OF STANDARDS IN THIS SCHOOL ARE 10\n",
      "ADDRESS OF THE SCHOOL: VIJAYANAGARCOLONY\n",
      "NUMBER OF BRANCHES OF THE SCHOOL ARE 2\n",
      "THE SYLLABUS ADAPTED BY THE SCHOOL IS CCE\n",
      "CONTACT NUMBER: 7894875839\n"
     ]
    }
   ],
   "source": [
    "sc1.sch_details()"
   ]
  },
  {
   "cell_type": "code",
   "execution_count": 345,
   "id": "bdca1fd7-41f8-4579-b81d-5d086c35a6d7",
   "metadata": {},
   "outputs": [
    {
     "name": "stdout",
     "output_type": "stream",
     "text": [
      "THE CURRENT YEAR INFO OF THE PADMAVANI SCHOOL IS AS FOLLOWS\n",
      "╭────────────────┬─────────────────────────────────────────────────────────────────────────┬─────────────────────────────╮\n",
      "│ CLASS NAME     │ STUDENTS                                                                │ PERCENTAGES                 │\n",
      "├────────────────┼─────────────────────────────────────────────────────────────────────────┼─────────────────────────────┤\n",
      "│ CLASS_CLASS_4  │ ['DHANUSH']                                                             │ [66]                        │\n",
      "├────────────────┼─────────────────────────────────────────────────────────────────────────┼─────────────────────────────┤\n",
      "│ CLASS_CLASS_7  │ ['DHAWAN']                                                              │ [66]                        │\n",
      "├────────────────┼─────────────────────────────────────────────────────────────────────────┼─────────────────────────────┤\n",
      "│ CLASS_CLASS_8  │ ['PAVAN', 'SIVARAJ', 'PAVANA VEER', 'SAI KUMAR', 'KARUNAKAR', 'ASHWIN'] │ [100, 100, 100, 88, 78, 90] │\n",
      "├────────────────┼─────────────────────────────────────────────────────────────────────────┼─────────────────────────────┤\n",
      "│ CLASS_CLASS_9  │ ['SIVA', 'MARY']                                                        │ [100, 79]                   │\n",
      "├────────────────┼─────────────────────────────────────────────────────────────────────────┼─────────────────────────────┤\n",
      "│ CLASS_CLASS_10 │ ['VENKATESHWAR', 'SYAMALA DEVI', 'KEVIN ROY', 'MARY JON', 'KAIRASA']    │ [99, 87, 68, 79, 75]        │\n",
      "╰────────────────┴─────────────────────────────────────────────────────────────────────────┴─────────────────────────────╯\n"
     ]
    }
   ],
   "source": [
    "sc1.C_YEAR_DET()"
   ]
  },
  {
   "cell_type": "code",
   "execution_count": 346,
   "id": "4f319c8b-177e-41f2-abaa-15b0e53ac04a",
   "metadata": {},
   "outputs": [
    {
     "name": "stdout",
     "output_type": "stream",
     "text": [
      "THE SCHOOL RUNTIME IS WITHIN THE LIMIT\n"
     ]
    },
    {
     "name": "stdin",
     "output_type": "stream",
     "text": [
      "NOW PLEASE ENTER THE SCHOOL TIMINGS: 9am-5pm\n"
     ]
    },
    {
     "name": "stdout",
     "output_type": "stream",
     "text": [
      "CONTACT NUMBER CONTAINS ONLY 10DIGITS IN MAXIMUM\n"
     ]
    },
    {
     "name": "stdin",
     "output_type": "stream",
     "text": [
      "ENTER VALID CONTACT: 7898478478\n"
     ]
    },
    {
     "name": "stdout",
     "output_type": "stream",
     "text": [
      "THE SAIVIJETHA SCHOOL GENERAL DETAILS ENTRY IS COMPLETED\n"
     ]
    }
   ],
   "source": [
    "sc2=SCHOOLS('SAIVIJETHA',9,10,'SANJEEVNAGAR',2,'CCE',79327392723,standards_list)"
   ]
  },
  {
   "cell_type": "code",
   "execution_count": 347,
   "id": "d74338ff-0ead-4afb-8a98-439664751d7d",
   "metadata": {},
   "outputs": [
    {
     "name": "stdout",
     "output_type": "stream",
     "text": [
      "OUR SCHOOL NAME IS SAIVIJETHA\n",
      "THE SCHOOL TIMINGS ARE 9am-5pm\n",
      "THE NUMBER OF STANDARDS IN THIS SCHOOL ARE 10\n",
      "ADDRESS OF THE SCHOOL: SANJEEVNAGAR\n",
      "NUMBER OF BRANCHES OF THE SCHOOL ARE 2\n",
      "THE SYLLABUS ADAPTED BY THE SCHOOL IS CCE\n",
      "CONTACT NUMBER: 7898478478\n"
     ]
    }
   ],
   "source": [
    "sc2.sch_details()"
   ]
  },
  {
   "cell_type": "code",
   "execution_count": 348,
   "id": "f0f2bc2c-ff39-4e87-85fc-fb1697980da4",
   "metadata": {},
   "outputs": [
    {
     "name": "stdout",
     "output_type": "stream",
     "text": [
      "THE CURRENT YEAR INFO OF THE SAIVIJETHA SCHOOL IS AS FOLLOWS\n",
      "╭────────────────┬─────────────────────────────────────────────────────────────┬──────────────────────────╮\n",
      "│ CLASS NAME     │ STUDENTS                                                    │ PERCENTAGES              │\n",
      "├────────────────┼─────────────────────────────────────────────────────────────┼──────────────────────────┤\n",
      "│ CLASS_CLASS_8  │ ['VARUN', 'SRAVANI DEVI', 'THANAMAI']                       │ [66, 98, 80]             │\n",
      "├────────────────┼─────────────────────────────────────────────────────────────┼──────────────────────────┤\n",
      "│ CLASS_CLASS_9  │ ['SRAVANI', 'SAI', 'KEERTHANA', 'KARUNA', 'KEVIN', 'KAIRA'] │ [98, 88, 80, 78, 68, 75] │\n",
      "├────────────────┼─────────────────────────────────────────────────────────────┼──────────────────────────┤\n",
      "│ CLASS_CLASS_10 │ ['VENKAT', 'SYAMALA', 'VARUN DHAWAN']                       │ [99, 87, 66]             │\n",
      "╰────────────────┴─────────────────────────────────────────────────────────────┴──────────────────────────╯\n"
     ]
    }
   ],
   "source": [
    "sc2.C_YEAR_DET()"
   ]
  },
  {
   "cell_type": "code",
   "execution_count": 349,
   "id": "ace257d9-def4-43c2-9467-eb575aa1830a",
   "metadata": {},
   "outputs": [
    {
     "name": "stdout",
     "output_type": "stream",
     "text": [
      "THE NEXT YEAR INFO OF THE PADMAVANI SCHOOL IS AS FOLLOWS\n",
      "╭─────────────────────────────────┬─────────────────────────────────────────────────────────────────────────┬─────────────────────────────╮\n",
      "│ CLASS NAME                      │ STUDENTS                                                                │ PERCENTAGES                 │\n",
      "├─────────────────────────────────┼─────────────────────────────────────────────────────────────────────────┼─────────────────────────────┤\n",
      "│ CLASS_CLASS_4                   │ ['DHANUSH']                                                             │ [66]                        │\n",
      "├─────────────────────────────────┼─────────────────────────────────────────────────────────────────────────┼─────────────────────────────┤\n",
      "│ CLASS_CLASS_7                   │ ['DHAWAN']                                                              │ [66]                        │\n",
      "├─────────────────────────────────┼─────────────────────────────────────────────────────────────────────────┼─────────────────────────────┤\n",
      "│ CLASS_CLASS_9                   │ ['PAVAN', 'SIVARAJ', 'PAVANA VEER', 'SAI KUMAR', 'KARUNAKAR', 'ASHWIN'] │ [100, 100, 100, 88, 78, 90] │\n",
      "├─────────────────────────────────┼─────────────────────────────────────────────────────────────────────────┼─────────────────────────────┤\n",
      "│ CLASS_CLASS_10                  │ ['SIVA', 'MARY', 'KEVIN ROY', 'KAIRASA']                                │ [100, 79, 68, 75]           │\n",
      "├─────────────────────────────────┼─────────────────────────────────────────────────────────────────────────┼─────────────────────────────┤\n",
      "│ CLASS_CLASS_11 SCHOOL MIGRATORS │ ['VENKATESHWAR', 'SYAMALA DEVI', 'MARY JON']                            │ [99, 87, 79]                │\n",
      "╰─────────────────────────────────┴─────────────────────────────────────────────────────────────────────────┴─────────────────────────────╯\n"
     ]
    }
   ],
   "source": [
    "sc1.N_YEAR_DET()"
   ]
  },
  {
   "cell_type": "code",
   "execution_count": 350,
   "id": "c9be4aff-e767-41df-a0fb-aebd6149213d",
   "metadata": {},
   "outputs": [
    {
     "name": "stdout",
     "output_type": "stream",
     "text": [
      "THE NEXT YEAR INFO OF THE SAIVIJETHA SCHOOL IS AS FOLLOWS\n",
      "╭─────────────────────────────────┬───────────────────────────────────────────────────────────┬──────────────────────╮\n",
      "│ CLASS NAME                      │ STUDENTS                                                  │ PERCENTAGES          │\n",
      "├─────────────────────────────────┼───────────────────────────────────────────────────────────┼──────────────────────┤\n",
      "│ CLASS_CLASS_8                   │ ['VARUN']                                                 │ [66]                 │\n",
      "├─────────────────────────────────┼───────────────────────────────────────────────────────────┼──────────────────────┤\n",
      "│ CLASS_CLASS_9                   │ ['SRAVANI DEVI', 'THANAMAI', 'KEVIN', 'KAIRA']            │ [98, 80, 68, 75]     │\n",
      "├─────────────────────────────────┼───────────────────────────────────────────────────────────┼──────────────────────┤\n",
      "│ CLASS_CLASS_9                   │ ['KEVIN', 'KAIRA']                                        │ [68, 75]             │\n",
      "├─────────────────────────────────┼───────────────────────────────────────────────────────────┼──────────────────────┤\n",
      "│ CLASS_CLASS_10                  │ ['SRAVANI', 'SAI', 'KEERTHANA', 'KARUNA', 'VARUN DHAWAN'] │ [98, 88, 80, 78, 66] │\n",
      "├─────────────────────────────────┼───────────────────────────────────────────────────────────┼──────────────────────┤\n",
      "│ CLASS_CLASS_11 SCHOOL MIGRATORS │ ['VENKAT', 'SYAMALA']                                     │ [99, 87]             │\n",
      "╰─────────────────────────────────┴───────────────────────────────────────────────────────────┴──────────────────────╯\n"
     ]
    }
   ],
   "source": [
    "sc2.N_YEAR_DET()"
   ]
  },
  {
   "cell_type": "code",
   "execution_count": 351,
   "id": "203d7ef3-c930-4c7a-bab4-7c806f17f108",
   "metadata": {},
   "outputs": [
    {
     "name": "stdout",
     "output_type": "stream",
     "text": [
      "YES!THE STUDENT SIVA IS PROMOTED FROM THE CLASS 9 TO THE NEXT CLASS 10\n"
     ]
    }
   ],
   "source": [
    "sc1.promotion_status('siva')"
   ]
  },
  {
   "cell_type": "code",
   "execution_count": 352,
   "id": "e03454f4-03b7-4b4e-969a-21007a33aa57",
   "metadata": {},
   "outputs": [
    {
     "name": "stdout",
     "output_type": "stream",
     "text": [
      "THE STUDENT PAVAN IS APPLIED FOR TRANSFER FROM THE SCHOOL PADMAVANI\n",
      "THE STUDENT IS TRANSFERRED SUCCESSFULLY FROM THE SCHOOL PADMAVANI\n",
      "THE STUDETNS WHO COMPLETED THEIR SCHOOL EDUCATION IN THE PADMAVANI ARE AS FOLLOWS\n",
      "VENKATESHWAR\n",
      "SYAMALA DEVI\n",
      "MARY JON\n",
      "\n",
      "THE ABOVE ALL STUDENTS CAN JOIN IN COLLEGES WITHOUT ANY FAIL\n",
      "THESE STUDENTS ARE SUCCESFULLY TRANSFERRED FROM THE SCHOOL\n",
      "THE NEXT YEAR INFO OF THE PADMAVANI SCHOOL AFTER STUDENT TRANSFERS IS AS FOLLOWS\n",
      "╭────────────────┬────────────────────────────────────────────────────────────────┬────────────────────────╮\n",
      "│ CLASS NAME     │ STUDENTS                                                       │ PERCENTAGES            │\n",
      "├────────────────┼────────────────────────────────────────────────────────────────┼────────────────────────┤\n",
      "│ CLASS_CLASS_4  │ ['DHANUSH']                                                    │ [66]                   │\n",
      "├────────────────┼────────────────────────────────────────────────────────────────┼────────────────────────┤\n",
      "│ CLASS_CLASS_7  │ ['DHAWAN']                                                     │ [66]                   │\n",
      "├────────────────┼────────────────────────────────────────────────────────────────┼────────────────────────┤\n",
      "│ CLASS_CLASS_9  │ ['SIVARAJ', 'PAVANA VEER', 'SAI KUMAR', 'KARUNAKAR', 'ASHWIN'] │ [100, 100, 88, 78, 90] │\n",
      "├────────────────┼────────────────────────────────────────────────────────────────┼────────────────────────┤\n",
      "│ CLASS_CLASS_10 │ ['SIVA', 'MARY', 'KEVIN ROY', 'KAIRASA']                       │ [100, 79, 68, 75]      │\n",
      "╰────────────────┴────────────────────────────────────────────────────────────────┴────────────────────────╯\n"
     ]
    }
   ],
   "source": [
    "sc1.STU_TRANSFERS('pavan')"
   ]
  },
  {
   "cell_type": "code",
   "execution_count": 353,
   "id": "8f10a342-ba05-4bb8-874b-d9b89b22805d",
   "metadata": {},
   "outputs": [
    {
     "name": "stdout",
     "output_type": "stream",
     "text": [
      "THE STUDENT MANOHAR GENERAL DETAILS ENTRY IS COMPLETED\n",
      "THE STUDENT DETAILS ARE AS FOLLOWS\n",
      "NAME OF THE STUDENT: MANOHAR\n",
      "GENDER: MALE\n",
      "AGE: 20\n",
      "SCHOOL NAME: PADMAVANI\n",
      "CLASS: 6\n",
      "SECTION: A\n",
      "ROLL NUMBER: 15\n",
      "CONTACT NUMBER: 9491989611\n",
      "ANNUAL PERCENTAGE: 61\n",
      "THE STUDENT IS SUCCESSFULLY ADMITTED INTO THE CLASS 7 IN THE SCHOOL\n",
      "THE NEXT YEAR INFO OF THE PADMAVANI SCHOOL AFTER NEW ADMISSIONS IS AS FOLLOWS\n",
      "╭────────────────┬────────────────────────────────────────────────────────────────┬────────────────────────╮\n",
      "│ CLASS NAME     │ STUDENTS                                                       │ PERCENTAGES            │\n",
      "├────────────────┼────────────────────────────────────────────────────────────────┼────────────────────────┤\n",
      "│ CLASS_CLASS_4  │ ['DHANUSH']                                                    │ [66]                   │\n",
      "├────────────────┼────────────────────────────────────────────────────────────────┼────────────────────────┤\n",
      "│ CLASS_CLASS_7  │ ['DHAWAN', 'MANOHAR']                                          │ [66, 61]               │\n",
      "├────────────────┼────────────────────────────────────────────────────────────────┼────────────────────────┤\n",
      "│ CLASS_CLASS_9  │ ['SIVARAJ', 'PAVANA VEER', 'SAI KUMAR', 'KARUNAKAR', 'ASHWIN'] │ [100, 100, 88, 78, 90] │\n",
      "├────────────────┼────────────────────────────────────────────────────────────────┼────────────────────────┤\n",
      "│ CLASS_CLASS_10 │ ['SIVA', 'MARY', 'KEVIN ROY', 'KAIRASA']                       │ [100, 79, 68, 75]      │\n",
      "╰────────────────┴────────────────────────────────────────────────────────────────┴────────────────────────╯\n"
     ]
    }
   ],
   "source": [
    "sc1.NEW_ADMISSIONS('MANOHAR','MALE',20,'PADMAVANI',6,'A',15,9491989611,61)"
   ]
  },
  {
   "cell_type": "code",
   "execution_count": 354,
   "id": "ccf86b21-0210-44d8-a37e-2f0abbe428f1",
   "metadata": {},
   "outputs": [
    {
     "name": "stdout",
     "output_type": "stream",
     "text": [
      "THE STUDENT MARUTHI GENERAL DETAILS ENTRY IS COMPLETED\n",
      "THE STUDENT DETAILS ARE AS FOLLOWS\n",
      "NAME OF THE STUDENT: MARUTHI\n",
      "GENDER: MALE\n",
      "AGE: 20\n",
      "SCHOOL NAME: PADMAVANI\n",
      "CLASS: 5\n",
      "SECTION: A\n",
      "ROLL NUMBER: 15\n",
      "CONTACT NUMBER: 9491989611\n",
      "ANNUAL PERCENTAGE: 60\n",
      "THE STUDENT ANNUAL YEAR PERCENTAGE OF THE CLASS 5 IS VERY POOR(LESS THAN 60),HE WON'T BE ADMITTED INTO THE NEXT CLASS 6 DIRECTLY\n"
     ]
    },
    {
     "name": "stdin",
     "output_type": "stream",
     "text": [
      "DO YOU WANT HIS/HER ADMISSION INTO THEIR SAME CLASS(Y/N): n\n"
     ]
    },
    {
     "name": "stdout",
     "output_type": "stream",
     "text": [
      "THANK YOU,BETTER LUCK NEXT TIME\n",
      "THE NEXT YEAR INFO OF THE PADMAVANI SCHOOL AFTER NEW ADMISSIONS IS AS FOLLOWS\n",
      "╭────────────────┬────────────────────────────────────────────────────────────────┬────────────────────────╮\n",
      "│ CLASS NAME     │ STUDENTS                                                       │ PERCENTAGES            │\n",
      "├────────────────┼────────────────────────────────────────────────────────────────┼────────────────────────┤\n",
      "│ CLASS_CLASS_4  │ ['DHANUSH']                                                    │ [66]                   │\n",
      "├────────────────┼────────────────────────────────────────────────────────────────┼────────────────────────┤\n",
      "│ CLASS_CLASS_7  │ ['DHAWAN', 'MANOHAR']                                          │ [66, 61]               │\n",
      "├────────────────┼────────────────────────────────────────────────────────────────┼────────────────────────┤\n",
      "│ CLASS_CLASS_9  │ ['SIVARAJ', 'PAVANA VEER', 'SAI KUMAR', 'KARUNAKAR', 'ASHWIN'] │ [100, 100, 88, 78, 90] │\n",
      "├────────────────┼────────────────────────────────────────────────────────────────┼────────────────────────┤\n",
      "│ CLASS_CLASS_10 │ ['SIVA', 'MARY', 'KEVIN ROY', 'KAIRASA']                       │ [100, 79, 68, 75]      │\n",
      "╰────────────────┴────────────────────────────────────────────────────────────────┴────────────────────────╯\n"
     ]
    }
   ],
   "source": [
    "sc1.NEW_ADMISSIONS('MARUTHI','MALE',20,'PADMAVANI',5,'A',15,9491989611,60)"
   ]
  },
  {
   "cell_type": "code",
   "execution_count": 355,
   "id": "0061804c-bd2c-4bd3-816b-4faf243cc624",
   "metadata": {},
   "outputs": [
    {
     "name": "stdout",
     "output_type": "stream",
     "text": [
      "THE STUDENT GANESH GENERAL DETAILS ENTRY IS COMPLETED\n",
      "THE STUDENT DETAILS ARE AS FOLLOWS\n",
      "NAME OF THE STUDENT: GANESH\n",
      "GENDER: MALE\n",
      "AGE: 20\n",
      "SCHOOL NAME: PADMAVANI\n",
      "CLASS: 3\n",
      "SECTION: A\n",
      "ROLL NUMBER: 15\n",
      "CONTACT NUMBER: 9491989611\n",
      "ANNUAL PERCENTAGE: 75\n",
      "THE STUDENT IS SUCCESSFULLY ADMITTED INTO THE CLASS 4 IN THE SCHOOL\n",
      "THE NEXT YEAR INFO OF THE PADMAVANI SCHOOL AFTER NEW ADMISSIONS IS AS FOLLOWS\n",
      "╭────────────────┬────────────────────────────────────────────────────────────────┬────────────────────────╮\n",
      "│ CLASS NAME     │ STUDENTS                                                       │ PERCENTAGES            │\n",
      "├────────────────┼────────────────────────────────────────────────────────────────┼────────────────────────┤\n",
      "│ CLASS_CLASS_4  │ ['DHANUSH', 'GANESH']                                          │ [66, 75]               │\n",
      "├────────────────┼────────────────────────────────────────────────────────────────┼────────────────────────┤\n",
      "│ CLASS_CLASS_7  │ ['DHAWAN', 'MANOHAR']                                          │ [66, 61]               │\n",
      "├────────────────┼────────────────────────────────────────────────────────────────┼────────────────────────┤\n",
      "│ CLASS_CLASS_9  │ ['SIVARAJ', 'PAVANA VEER', 'SAI KUMAR', 'KARUNAKAR', 'ASHWIN'] │ [100, 100, 88, 78, 90] │\n",
      "├────────────────┼────────────────────────────────────────────────────────────────┼────────────────────────┤\n",
      "│ CLASS_CLASS_10 │ ['SIVA', 'MARY', 'KEVIN ROY', 'KAIRASA']                       │ [100, 79, 68, 75]      │\n",
      "╰────────────────┴────────────────────────────────────────────────────────────────┴────────────────────────╯\n"
     ]
    }
   ],
   "source": [
    "sc1.NEW_ADMISSIONS('GANESH','MALE',20,'PADMAVANI',3,'A',15,9491989611,75)"
   ]
  },
  {
   "cell_type": "code",
   "execution_count": 356,
   "id": "00956d06-e829-4b86-85ee-3d06971e4cba",
   "metadata": {},
   "outputs": [
    {
     "name": "stdout",
     "output_type": "stream",
     "text": [
      "THE STUDENT SAGAR GENERAL DETAILS ENTRY IS COMPLETED\n",
      "THE STUDENT DETAILS ARE AS FOLLOWS\n",
      "NAME OF THE STUDENT: SAGAR\n",
      "GENDER: MALE\n",
      "AGE: 20\n",
      "SCHOOL NAME: PADMAVANI\n",
      "CLASS: 8\n",
      "SECTION: A\n",
      "ROLL NUMBER: 15\n",
      "CONTACT NUMBER: 9491989611\n",
      "ANNUAL PERCENTAGE: 60\n",
      "THE STUDENT ANNUAL YEAR PERCENTAGE OF THE CLASS 8 IS VERY POOR(LESS THAN 60),HE WON'T BE ADMITTED INTO THE NEXT CLASS 9 DIRECTLY\n"
     ]
    },
    {
     "name": "stdin",
     "output_type": "stream",
     "text": [
      "DO YOU WANT HIS/HER ADMISSION INTO THEIR SAME CLASS(Y/N): y\n"
     ]
    },
    {
     "name": "stdout",
     "output_type": "stream",
     "text": [
      "THE NEXT YEAR INFO OF THE PADMAVANI SCHOOL AFTER NEW ADMISSIONS IS AS FOLLOWS\n",
      "╭────────────────┬────────────────────────────────────────────────────────────────┬────────────────────────╮\n",
      "│ CLASS NAME     │ STUDENTS                                                       │ PERCENTAGES            │\n",
      "├────────────────┼────────────────────────────────────────────────────────────────┼────────────────────────┤\n",
      "│ CLASS_CLASS_4  │ ['DHANUSH', 'GANESH']                                          │ [66, 75]               │\n",
      "├────────────────┼────────────────────────────────────────────────────────────────┼────────────────────────┤\n",
      "│ CLASS_CLASS_7  │ ['DHAWAN', 'MANOHAR']                                          │ [66, 61]               │\n",
      "├────────────────┼────────────────────────────────────────────────────────────────┼────────────────────────┤\n",
      "│ CLASS_CLASS_9  │ ['SIVARAJ', 'PAVANA VEER', 'SAI KUMAR', 'KARUNAKAR', 'ASHWIN'] │ [100, 100, 88, 78, 90] │\n",
      "├────────────────┼────────────────────────────────────────────────────────────────┼────────────────────────┤\n",
      "│ CLASS_CLASS_10 │ ['SIVA', 'MARY', 'KEVIN ROY', 'KAIRASA']                       │ [100, 79, 68, 75]      │\n",
      "╰────────────────┴────────────────────────────────────────────────────────────────┴────────────────────────╯\n"
     ]
    }
   ],
   "source": [
    "sc1.NEW_ADMISSIONS('SAGAR','MALE',20,'PADMAVANI',8,'A',15,9491989611,60)"
   ]
  },
  {
   "cell_type": "code",
   "execution_count": 357,
   "id": "71f9c3f6-0ed9-4e65-8861-8d4b41fcc0f0",
   "metadata": {},
   "outputs": [
    {
     "name": "stdout",
     "output_type": "stream",
     "text": [
      "THE STUDENT SAINDHAV GENERAL DETAILS ENTRY IS COMPLETED\n",
      "THE STUDENT DETAILS ARE AS FOLLOWS\n",
      "NAME OF THE STUDENT: SAINDHAV\n",
      "GENDER: MALE\n",
      "AGE: 20\n",
      "SCHOOL NAME: PADMAVANI\n",
      "CLASS: 2\n",
      "SECTION: A\n",
      "ROLL NUMBER: 15\n",
      "CONTACT NUMBER: 9491989611\n",
      "ANNUAL PERCENTAGE: 66\n",
      "THE NEXT YEAR INFO OF THE PADMAVANI SCHOOL AFTER NEW ADMISSIONS IS AS FOLLOWS\n",
      "╭────────────────┬────────────────────────────────────────────────────────────────┬────────────────────────╮\n",
      "│ CLASS NAME     │ STUDENTS                                                       │ PERCENTAGES            │\n",
      "├────────────────┼────────────────────────────────────────────────────────────────┼────────────────────────┤\n",
      "│ CLASS_CLASS_3  │ ['SAINDHAV']                                                   │ [66]                   │\n",
      "├────────────────┼────────────────────────────────────────────────────────────────┼────────────────────────┤\n",
      "│ CLASS_CLASS_4  │ ['DHANUSH', 'GANESH']                                          │ [66, 75]               │\n",
      "├────────────────┼────────────────────────────────────────────────────────────────┼────────────────────────┤\n",
      "│ CLASS_CLASS_7  │ ['DHAWAN', 'MANOHAR']                                          │ [66, 61]               │\n",
      "├────────────────┼────────────────────────────────────────────────────────────────┼────────────────────────┤\n",
      "│ CLASS_CLASS_9  │ ['SIVARAJ', 'PAVANA VEER', 'SAI KUMAR', 'KARUNAKAR', 'ASHWIN'] │ [100, 100, 88, 78, 90] │\n",
      "├────────────────┼────────────────────────────────────────────────────────────────┼────────────────────────┤\n",
      "│ CLASS_CLASS_10 │ ['SIVA', 'MARY', 'KEVIN ROY', 'KAIRASA']                       │ [100, 79, 68, 75]      │\n",
      "╰────────────────┴────────────────────────────────────────────────────────────────┴────────────────────────╯\n"
     ]
    }
   ],
   "source": [
    "sc1.NEW_ADMISSIONS('SAINDHAV','MALE',20,'PADMAVANI',2,'A',15,9491989611,66)"
   ]
  },
  {
   "cell_type": "code",
   "execution_count": 358,
   "id": "5f333025-b400-491f-acfd-7ec76400a72a",
   "metadata": {},
   "outputs": [
    {
     "name": "stdout",
     "output_type": "stream",
     "text": [
      "THE STUDENT KRISHNA GENERAL DETAILS ENTRY IS COMPLETED\n",
      "THE STUDENT DETAILS ARE AS FOLLOWS\n",
      "NAME OF THE STUDENT: KRISHNA\n",
      "GENDER: MALE\n",
      "AGE: 20\n",
      "SCHOOL NAME: PADMAVANI\n",
      "CLASS: 8\n",
      "SECTION: A\n",
      "ROLL NUMBER: 15\n",
      "CONTACT NUMBER: 9491989611\n",
      "ANNUAL PERCENTAGE: 100\n",
      "THE STUDENT IS SUCCESSFULLY ADMITTED INTO THE CLASS 9 IN THE SCHOOL\n",
      "THE NEXT YEAR INFO OF THE PADMAVANI SCHOOL AFTER NEW ADMISSIONS IS AS FOLLOWS\n",
      "╭────────────────┬───────────────────────────────────────────────────────────────────────────┬─────────────────────────────╮\n",
      "│ CLASS NAME     │ STUDENTS                                                                  │ PERCENTAGES                 │\n",
      "├────────────────┼───────────────────────────────────────────────────────────────────────────┼─────────────────────────────┤\n",
      "│ CLASS_CLASS_3  │ ['SAINDHAV']                                                              │ [66]                        │\n",
      "├────────────────┼───────────────────────────────────────────────────────────────────────────┼─────────────────────────────┤\n",
      "│ CLASS_CLASS_4  │ ['DHANUSH', 'GANESH']                                                     │ [66, 75]                    │\n",
      "├────────────────┼───────────────────────────────────────────────────────────────────────────┼─────────────────────────────┤\n",
      "│ CLASS_CLASS_7  │ ['DHAWAN', 'MANOHAR']                                                     │ [66, 61]                    │\n",
      "├────────────────┼───────────────────────────────────────────────────────────────────────────┼─────────────────────────────┤\n",
      "│ CLASS_CLASS_9  │ ['SIVARAJ', 'PAVANA VEER', 'SAI KUMAR', 'KARUNAKAR', 'ASHWIN', 'KRISHNA'] │ [100, 100, 88, 78, 90, 100] │\n",
      "├────────────────┼───────────────────────────────────────────────────────────────────────────┼─────────────────────────────┤\n",
      "│ CLASS_CLASS_10 │ ['SIVA', 'MARY', 'KEVIN ROY', 'KAIRASA']                                  │ [100, 79, 68, 75]           │\n",
      "╰────────────────┴───────────────────────────────────────────────────────────────────────────┴─────────────────────────────╯\n"
     ]
    }
   ],
   "source": [
    "sc1.NEW_ADMISSIONS('KRISHNA','MALE',20,'PADMAVANI',8,'A',15,9491989611,100)"
   ]
  },
  {
   "cell_type": "code",
   "execution_count": 359,
   "id": "40faa1e7-ba5a-4f18-96d2-bfe0aadf4a19",
   "metadata": {},
   "outputs": [
    {
     "name": "stdout",
     "output_type": "stream",
     "text": [
      "THE FEE OF SIVA FOR THE NEXT YEAR FOR THE CLASS 10 is 50000\n"
     ]
    }
   ],
   "source": [
    "sc1.FEE('siva')"
   ]
  },
  {
   "cell_type": "code",
   "execution_count": 360,
   "id": "cf4404de-ee2d-4061-9c65-473a230b63b5",
   "metadata": {},
   "outputs": [
    {
     "name": "stdout",
     "output_type": "stream",
     "text": [
      "THE STAFF REMOVED FROM THE SCHOOL ARE\n",
      "SRINIVAS,RAJU,ARJUN,"
     ]
    }
   ],
   "source": [
    "sc1.t_removals()"
   ]
  },
  {
   "cell_type": "code",
   "execution_count": 361,
   "id": "aa26a653-771f-4274-996e-88d98db47009",
   "metadata": {},
   "outputs": [
    {
     "name": "stdout",
     "output_type": "stream",
     "text": [
      "THE STAFF LIST AFTER NEW APPOINTMENTS\n",
      "[['PRASAD', 'TELUGU', 8], ['RAMANA', 'HINDI', 7], ['MADHU', 'MATHS', 8], ['RASHIDA', 'PHYSICS', 8], ['AHMAD', 'SOCIAL', 8], ['PARVATHI', 'PET', 8], ['SARASWATHI', 'SANSKRIT', 8], ['RAM', 'ENGLISH', 7]]\n"
     ]
    }
   ],
   "source": [
    "sc1.t_appoint('ram','english',7)"
   ]
  }
 ],
 "metadata": {
  "kernelspec": {
   "display_name": "Python 3 (ipykernel)",
   "language": "python",
   "name": "python3"
  },
  "language_info": {
   "codemirror_mode": {
    "name": "ipython",
    "version": 3
   },
   "file_extension": ".py",
   "mimetype": "text/x-python",
   "name": "python",
   "nbconvert_exporter": "python",
   "pygments_lexer": "ipython3",
   "version": "3.10.11"
  }
 },
 "nbformat": 4,
 "nbformat_minor": 5
}
